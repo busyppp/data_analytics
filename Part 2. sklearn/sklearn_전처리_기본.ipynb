{
  "nbformat": 4,
  "nbformat_minor": 0,
  "metadata": {
    "colab": {
      "name": "[실습]Ch03.sklearn_전처리 기본.ipynb",
      "provenance": [],
      "collapsed_sections": []
    },
    "kernelspec": {
      "name": "python3",
      "display_name": "Python 3"
    }
  },
  "cells": [
    {
      "cell_type": "code",
      "metadata": {
        "id": "4m0FCvLtvwlU"
      },
      "source": [
        "import numpy as np\n",
        "import pandas as pd"
      ],
      "execution_count": null,
      "outputs": []
    },
    {
      "cell_type": "code",
      "metadata": {
        "id": "CWmwUbL6whW0"
      },
      "source": [
        "train = pd.read_csv('https://bit.ly/fc-ml-titanic')"
      ],
      "execution_count": null,
      "outputs": []
    },
    {
      "cell_type": "code",
      "metadata": {
        "id": "GhC64cie0XAm",
        "outputId": "f8f8758f-60f6-4feb-9e11-ee49d5b9c28e",
        "colab": {
          "base_uri": "https://localhost:8080/",
          "height": 204
        }
      },
      "source": [
        "train.head()"
      ],
      "execution_count": null,
      "outputs": [
        {
          "output_type": "execute_result",
          "data": {
            "text/html": [
              "\n",
              "  <div id=\"df-1d79c194-159d-44a4-8711-d5058cf55613\">\n",
              "    <div class=\"colab-df-container\">\n",
              "      <div>\n",
              "<style scoped>\n",
              "    .dataframe tbody tr th:only-of-type {\n",
              "        vertical-align: middle;\n",
              "    }\n",
              "\n",
              "    .dataframe tbody tr th {\n",
              "        vertical-align: top;\n",
              "    }\n",
              "\n",
              "    .dataframe thead th {\n",
              "        text-align: right;\n",
              "    }\n",
              "</style>\n",
              "<table border=\"1\" class=\"dataframe\">\n",
              "  <thead>\n",
              "    <tr style=\"text-align: right;\">\n",
              "      <th></th>\n",
              "      <th>PassengerId</th>\n",
              "      <th>Survived</th>\n",
              "      <th>Pclass</th>\n",
              "      <th>Name</th>\n",
              "      <th>Sex</th>\n",
              "      <th>Age</th>\n",
              "      <th>SibSp</th>\n",
              "      <th>Parch</th>\n",
              "      <th>Ticket</th>\n",
              "      <th>Fare</th>\n",
              "      <th>Cabin</th>\n",
              "      <th>Embarked</th>\n",
              "    </tr>\n",
              "  </thead>\n",
              "  <tbody>\n",
              "    <tr>\n",
              "      <th>0</th>\n",
              "      <td>1</td>\n",
              "      <td>0</td>\n",
              "      <td>3</td>\n",
              "      <td>Braund, Mr. Owen Harris</td>\n",
              "      <td>male</td>\n",
              "      <td>22.0</td>\n",
              "      <td>1</td>\n",
              "      <td>0</td>\n",
              "      <td>A/5 21171</td>\n",
              "      <td>7.2500</td>\n",
              "      <td>NaN</td>\n",
              "      <td>S</td>\n",
              "    </tr>\n",
              "    <tr>\n",
              "      <th>1</th>\n",
              "      <td>2</td>\n",
              "      <td>1</td>\n",
              "      <td>1</td>\n",
              "      <td>Cumings, Mrs. John Bradley (Florence Briggs Th...</td>\n",
              "      <td>female</td>\n",
              "      <td>38.0</td>\n",
              "      <td>1</td>\n",
              "      <td>0</td>\n",
              "      <td>PC 17599</td>\n",
              "      <td>71.2833</td>\n",
              "      <td>C85</td>\n",
              "      <td>C</td>\n",
              "    </tr>\n",
              "    <tr>\n",
              "      <th>2</th>\n",
              "      <td>3</td>\n",
              "      <td>1</td>\n",
              "      <td>3</td>\n",
              "      <td>Heikkinen, Miss. Laina</td>\n",
              "      <td>female</td>\n",
              "      <td>26.0</td>\n",
              "      <td>0</td>\n",
              "      <td>0</td>\n",
              "      <td>STON/O2. 3101282</td>\n",
              "      <td>7.9250</td>\n",
              "      <td>NaN</td>\n",
              "      <td>S</td>\n",
              "    </tr>\n",
              "    <tr>\n",
              "      <th>3</th>\n",
              "      <td>4</td>\n",
              "      <td>1</td>\n",
              "      <td>1</td>\n",
              "      <td>Futrelle, Mrs. Jacques Heath (Lily May Peel)</td>\n",
              "      <td>female</td>\n",
              "      <td>35.0</td>\n",
              "      <td>1</td>\n",
              "      <td>0</td>\n",
              "      <td>113803</td>\n",
              "      <td>53.1000</td>\n",
              "      <td>C123</td>\n",
              "      <td>S</td>\n",
              "    </tr>\n",
              "    <tr>\n",
              "      <th>4</th>\n",
              "      <td>5</td>\n",
              "      <td>0</td>\n",
              "      <td>3</td>\n",
              "      <td>Allen, Mr. William Henry</td>\n",
              "      <td>male</td>\n",
              "      <td>35.0</td>\n",
              "      <td>0</td>\n",
              "      <td>0</td>\n",
              "      <td>373450</td>\n",
              "      <td>8.0500</td>\n",
              "      <td>NaN</td>\n",
              "      <td>S</td>\n",
              "    </tr>\n",
              "  </tbody>\n",
              "</table>\n",
              "</div>\n",
              "      <button class=\"colab-df-convert\" onclick=\"convertToInteractive('df-1d79c194-159d-44a4-8711-d5058cf55613')\"\n",
              "              title=\"Convert this dataframe to an interactive table.\"\n",
              "              style=\"display:none;\">\n",
              "        \n",
              "  <svg xmlns=\"http://www.w3.org/2000/svg\" height=\"24px\"viewBox=\"0 0 24 24\"\n",
              "       width=\"24px\">\n",
              "    <path d=\"M0 0h24v24H0V0z\" fill=\"none\"/>\n",
              "    <path d=\"M18.56 5.44l.94 2.06.94-2.06 2.06-.94-2.06-.94-.94-2.06-.94 2.06-2.06.94zm-11 1L8.5 8.5l.94-2.06 2.06-.94-2.06-.94L8.5 2.5l-.94 2.06-2.06.94zm10 10l.94 2.06.94-2.06 2.06-.94-2.06-.94-.94-2.06-.94 2.06-2.06.94z\"/><path d=\"M17.41 7.96l-1.37-1.37c-.4-.4-.92-.59-1.43-.59-.52 0-1.04.2-1.43.59L10.3 9.45l-7.72 7.72c-.78.78-.78 2.05 0 2.83L4 21.41c.39.39.9.59 1.41.59.51 0 1.02-.2 1.41-.59l7.78-7.78 2.81-2.81c.8-.78.8-2.07 0-2.86zM5.41 20L4 18.59l7.72-7.72 1.47 1.35L5.41 20z\"/>\n",
              "  </svg>\n",
              "      </button>\n",
              "      \n",
              "  <style>\n",
              "    .colab-df-container {\n",
              "      display:flex;\n",
              "      flex-wrap:wrap;\n",
              "      gap: 12px;\n",
              "    }\n",
              "\n",
              "    .colab-df-convert {\n",
              "      background-color: #E8F0FE;\n",
              "      border: none;\n",
              "      border-radius: 50%;\n",
              "      cursor: pointer;\n",
              "      display: none;\n",
              "      fill: #1967D2;\n",
              "      height: 32px;\n",
              "      padding: 0 0 0 0;\n",
              "      width: 32px;\n",
              "    }\n",
              "\n",
              "    .colab-df-convert:hover {\n",
              "      background-color: #E2EBFA;\n",
              "      box-shadow: 0px 1px 2px rgba(60, 64, 67, 0.3), 0px 1px 3px 1px rgba(60, 64, 67, 0.15);\n",
              "      fill: #174EA6;\n",
              "    }\n",
              "\n",
              "    [theme=dark] .colab-df-convert {\n",
              "      background-color: #3B4455;\n",
              "      fill: #D2E3FC;\n",
              "    }\n",
              "\n",
              "    [theme=dark] .colab-df-convert:hover {\n",
              "      background-color: #434B5C;\n",
              "      box-shadow: 0px 1px 3px 1px rgba(0, 0, 0, 0.15);\n",
              "      filter: drop-shadow(0px 1px 2px rgba(0, 0, 0, 0.3));\n",
              "      fill: #FFFFFF;\n",
              "    }\n",
              "  </style>\n",
              "\n",
              "      <script>\n",
              "        const buttonEl =\n",
              "          document.querySelector('#df-1d79c194-159d-44a4-8711-d5058cf55613 button.colab-df-convert');\n",
              "        buttonEl.style.display =\n",
              "          google.colab.kernel.accessAllowed ? 'block' : 'none';\n",
              "\n",
              "        async function convertToInteractive(key) {\n",
              "          const element = document.querySelector('#df-1d79c194-159d-44a4-8711-d5058cf55613');\n",
              "          const dataTable =\n",
              "            await google.colab.kernel.invokeFunction('convertToInteractive',\n",
              "                                                     [key], {});\n",
              "          if (!dataTable) return;\n",
              "\n",
              "          const docLinkHtml = 'Like what you see? Visit the ' +\n",
              "            '<a target=\"_blank\" href=https://colab.research.google.com/notebooks/data_table.ipynb>data table notebook</a>'\n",
              "            + ' to learn more about interactive tables.';\n",
              "          element.innerHTML = '';\n",
              "          dataTable['output_type'] = 'display_data';\n",
              "          await google.colab.output.renderOutput(dataTable, element);\n",
              "          const docLink = document.createElement('div');\n",
              "          docLink.innerHTML = docLinkHtml;\n",
              "          element.appendChild(docLink);\n",
              "        }\n",
              "      </script>\n",
              "    </div>\n",
              "  </div>\n",
              "  "
            ],
            "text/plain": [
              "   PassengerId  Survived  Pclass  ...     Fare Cabin  Embarked\n",
              "0            1         0       3  ...   7.2500   NaN         S\n",
              "1            2         1       1  ...  71.2833   C85         C\n",
              "2            3         1       3  ...   7.9250   NaN         S\n",
              "3            4         1       1  ...  53.1000  C123         S\n",
              "4            5         0       3  ...   8.0500   NaN         S\n",
              "\n",
              "[5 rows x 12 columns]"
            ]
          },
          "metadata": {},
          "execution_count": 3
        }
      ]
    },
    {
      "cell_type": "markdown",
      "metadata": {
        "id": "xuUSnd2rxM75"
      },
      "source": [
        "## 데이터 셋: 타이타닉 데이터셋 (출처: Kaggle.com)"
      ]
    },
    {
      "cell_type": "code",
      "metadata": {
        "id": "G7u9pKwtwiiR",
        "colab": {
          "base_uri": "https://localhost:8080/",
          "height": 204
        },
        "outputId": "846f9704-f169-4c71-e428-7887eb19871f"
      },
      "source": [
        "train.head()"
      ],
      "execution_count": null,
      "outputs": [
        {
          "output_type": "execute_result",
          "data": {
            "text/html": [
              "\n",
              "  <div id=\"df-e4022a39-7de1-421f-9f9a-e0001e86c9b0\">\n",
              "    <div class=\"colab-df-container\">\n",
              "      <div>\n",
              "<style scoped>\n",
              "    .dataframe tbody tr th:only-of-type {\n",
              "        vertical-align: middle;\n",
              "    }\n",
              "\n",
              "    .dataframe tbody tr th {\n",
              "        vertical-align: top;\n",
              "    }\n",
              "\n",
              "    .dataframe thead th {\n",
              "        text-align: right;\n",
              "    }\n",
              "</style>\n",
              "<table border=\"1\" class=\"dataframe\">\n",
              "  <thead>\n",
              "    <tr style=\"text-align: right;\">\n",
              "      <th></th>\n",
              "      <th>PassengerId</th>\n",
              "      <th>Survived</th>\n",
              "      <th>Pclass</th>\n",
              "      <th>Name</th>\n",
              "      <th>Sex</th>\n",
              "      <th>Age</th>\n",
              "      <th>SibSp</th>\n",
              "      <th>Parch</th>\n",
              "      <th>Ticket</th>\n",
              "      <th>Fare</th>\n",
              "      <th>Cabin</th>\n",
              "      <th>Embarked</th>\n",
              "    </tr>\n",
              "  </thead>\n",
              "  <tbody>\n",
              "    <tr>\n",
              "      <th>0</th>\n",
              "      <td>1</td>\n",
              "      <td>0</td>\n",
              "      <td>3</td>\n",
              "      <td>Braund, Mr. Owen Harris</td>\n",
              "      <td>male</td>\n",
              "      <td>22.0</td>\n",
              "      <td>1</td>\n",
              "      <td>0</td>\n",
              "      <td>A/5 21171</td>\n",
              "      <td>7.2500</td>\n",
              "      <td>NaN</td>\n",
              "      <td>S</td>\n",
              "    </tr>\n",
              "    <tr>\n",
              "      <th>1</th>\n",
              "      <td>2</td>\n",
              "      <td>1</td>\n",
              "      <td>1</td>\n",
              "      <td>Cumings, Mrs. John Bradley (Florence Briggs Th...</td>\n",
              "      <td>female</td>\n",
              "      <td>38.0</td>\n",
              "      <td>1</td>\n",
              "      <td>0</td>\n",
              "      <td>PC 17599</td>\n",
              "      <td>71.2833</td>\n",
              "      <td>C85</td>\n",
              "      <td>C</td>\n",
              "    </tr>\n",
              "    <tr>\n",
              "      <th>2</th>\n",
              "      <td>3</td>\n",
              "      <td>1</td>\n",
              "      <td>3</td>\n",
              "      <td>Heikkinen, Miss. Laina</td>\n",
              "      <td>female</td>\n",
              "      <td>26.0</td>\n",
              "      <td>0</td>\n",
              "      <td>0</td>\n",
              "      <td>STON/O2. 3101282</td>\n",
              "      <td>7.9250</td>\n",
              "      <td>NaN</td>\n",
              "      <td>S</td>\n",
              "    </tr>\n",
              "    <tr>\n",
              "      <th>3</th>\n",
              "      <td>4</td>\n",
              "      <td>1</td>\n",
              "      <td>1</td>\n",
              "      <td>Futrelle, Mrs. Jacques Heath (Lily May Peel)</td>\n",
              "      <td>female</td>\n",
              "      <td>35.0</td>\n",
              "      <td>1</td>\n",
              "      <td>0</td>\n",
              "      <td>113803</td>\n",
              "      <td>53.1000</td>\n",
              "      <td>C123</td>\n",
              "      <td>S</td>\n",
              "    </tr>\n",
              "    <tr>\n",
              "      <th>4</th>\n",
              "      <td>5</td>\n",
              "      <td>0</td>\n",
              "      <td>3</td>\n",
              "      <td>Allen, Mr. William Henry</td>\n",
              "      <td>male</td>\n",
              "      <td>35.0</td>\n",
              "      <td>0</td>\n",
              "      <td>0</td>\n",
              "      <td>373450</td>\n",
              "      <td>8.0500</td>\n",
              "      <td>NaN</td>\n",
              "      <td>S</td>\n",
              "    </tr>\n",
              "  </tbody>\n",
              "</table>\n",
              "</div>\n",
              "      <button class=\"colab-df-convert\" onclick=\"convertToInteractive('df-e4022a39-7de1-421f-9f9a-e0001e86c9b0')\"\n",
              "              title=\"Convert this dataframe to an interactive table.\"\n",
              "              style=\"display:none;\">\n",
              "        \n",
              "  <svg xmlns=\"http://www.w3.org/2000/svg\" height=\"24px\"viewBox=\"0 0 24 24\"\n",
              "       width=\"24px\">\n",
              "    <path d=\"M0 0h24v24H0V0z\" fill=\"none\"/>\n",
              "    <path d=\"M18.56 5.44l.94 2.06.94-2.06 2.06-.94-2.06-.94-.94-2.06-.94 2.06-2.06.94zm-11 1L8.5 8.5l.94-2.06 2.06-.94-2.06-.94L8.5 2.5l-.94 2.06-2.06.94zm10 10l.94 2.06.94-2.06 2.06-.94-2.06-.94-.94-2.06-.94 2.06-2.06.94z\"/><path d=\"M17.41 7.96l-1.37-1.37c-.4-.4-.92-.59-1.43-.59-.52 0-1.04.2-1.43.59L10.3 9.45l-7.72 7.72c-.78.78-.78 2.05 0 2.83L4 21.41c.39.39.9.59 1.41.59.51 0 1.02-.2 1.41-.59l7.78-7.78 2.81-2.81c.8-.78.8-2.07 0-2.86zM5.41 20L4 18.59l7.72-7.72 1.47 1.35L5.41 20z\"/>\n",
              "  </svg>\n",
              "      </button>\n",
              "      \n",
              "  <style>\n",
              "    .colab-df-container {\n",
              "      display:flex;\n",
              "      flex-wrap:wrap;\n",
              "      gap: 12px;\n",
              "    }\n",
              "\n",
              "    .colab-df-convert {\n",
              "      background-color: #E8F0FE;\n",
              "      border: none;\n",
              "      border-radius: 50%;\n",
              "      cursor: pointer;\n",
              "      display: none;\n",
              "      fill: #1967D2;\n",
              "      height: 32px;\n",
              "      padding: 0 0 0 0;\n",
              "      width: 32px;\n",
              "    }\n",
              "\n",
              "    .colab-df-convert:hover {\n",
              "      background-color: #E2EBFA;\n",
              "      box-shadow: 0px 1px 2px rgba(60, 64, 67, 0.3), 0px 1px 3px 1px rgba(60, 64, 67, 0.15);\n",
              "      fill: #174EA6;\n",
              "    }\n",
              "\n",
              "    [theme=dark] .colab-df-convert {\n",
              "      background-color: #3B4455;\n",
              "      fill: #D2E3FC;\n",
              "    }\n",
              "\n",
              "    [theme=dark] .colab-df-convert:hover {\n",
              "      background-color: #434B5C;\n",
              "      box-shadow: 0px 1px 3px 1px rgba(0, 0, 0, 0.15);\n",
              "      filter: drop-shadow(0px 1px 2px rgba(0, 0, 0, 0.3));\n",
              "      fill: #FFFFFF;\n",
              "    }\n",
              "  </style>\n",
              "\n",
              "      <script>\n",
              "        const buttonEl =\n",
              "          document.querySelector('#df-e4022a39-7de1-421f-9f9a-e0001e86c9b0 button.colab-df-convert');\n",
              "        buttonEl.style.display =\n",
              "          google.colab.kernel.accessAllowed ? 'block' : 'none';\n",
              "\n",
              "        async function convertToInteractive(key) {\n",
              "          const element = document.querySelector('#df-e4022a39-7de1-421f-9f9a-e0001e86c9b0');\n",
              "          const dataTable =\n",
              "            await google.colab.kernel.invokeFunction('convertToInteractive',\n",
              "                                                     [key], {});\n",
              "          if (!dataTable) return;\n",
              "\n",
              "          const docLinkHtml = 'Like what you see? Visit the ' +\n",
              "            '<a target=\"_blank\" href=https://colab.research.google.com/notebooks/data_table.ipynb>data table notebook</a>'\n",
              "            + ' to learn more about interactive tables.';\n",
              "          element.innerHTML = '';\n",
              "          dataTable['output_type'] = 'display_data';\n",
              "          await google.colab.output.renderOutput(dataTable, element);\n",
              "          const docLink = document.createElement('div');\n",
              "          docLink.innerHTML = docLinkHtml;\n",
              "          element.appendChild(docLink);\n",
              "        }\n",
              "      </script>\n",
              "    </div>\n",
              "  </div>\n",
              "  "
            ],
            "text/plain": [
              "   PassengerId  Survived  Pclass  ...     Fare Cabin  Embarked\n",
              "0            1         0       3  ...   7.2500   NaN         S\n",
              "1            2         1       1  ...  71.2833   C85         C\n",
              "2            3         1       3  ...   7.9250   NaN         S\n",
              "3            4         1       1  ...  53.1000  C123         S\n",
              "4            5         0       3  ...   8.0500   NaN         S\n",
              "\n",
              "[5 rows x 12 columns]"
            ]
          },
          "metadata": {},
          "execution_count": 4
        }
      ]
    },
    {
      "cell_type": "markdown",
      "metadata": {
        "id": "Ukcki232wmDh"
      },
      "source": [
        "* PassengerId: 승객 아이디\n",
        "* Survived: 생존 여부, 1: 생존, 0: 사망\n",
        "* Pclass: 등급\n",
        "* Name: 성함\n",
        "* Sex: 성별\n",
        "* Age: 나이\n",
        "* SibSp: 형제, 자매, 배우자 수\n",
        "* Parch: 부모, 자식 수\n",
        "* Ticket: 티켓번호\n",
        "* Fare: 요금\n",
        "* Cabin: 좌석번호\n",
        "* Embarked: 탑승 항구"
      ]
    },
    {
      "cell_type": "markdown",
      "metadata": {
        "id": "Z0qwUVkjWxw2"
      },
      "source": [
        "## 전처리: train / validation 세트 나누기"
      ]
    },
    {
      "cell_type": "markdown",
      "metadata": {
        "id": "1gBnXghxXruX"
      },
      "source": [
        "1. 먼저, feature 와 label을 정의합니다.\n",
        "2. feature / label을 정의했으면, 적절한 비율로 train / validation set을 나눕니다."
      ]
    },
    {
      "cell_type": "code",
      "metadata": {
        "id": "XU_Vm-JAX1hZ"
      },
      "source": [
        "feature = [\n",
        "           'Pclass', 'Sex', 'Age', 'Fare'    \n",
        "]"
      ],
      "execution_count": null,
      "outputs": []
    },
    {
      "cell_type": "code",
      "metadata": {
        "id": "R3k2pLtAX1QW"
      },
      "source": [
        "label = [\n",
        "         'Survived'\n",
        "]"
      ],
      "execution_count": null,
      "outputs": []
    },
    {
      "cell_type": "code",
      "metadata": {
        "id": "pihzueRiYBMv",
        "colab": {
          "base_uri": "https://localhost:8080/",
          "height": 204
        },
        "outputId": "aa3ae6d6-685c-4eb7-c5f8-1a7e8b75efdf"
      },
      "source": [
        "train[feature].head()"
      ],
      "execution_count": null,
      "outputs": [
        {
          "output_type": "execute_result",
          "data": {
            "text/html": [
              "\n",
              "  <div id=\"df-f2854a35-3236-4c56-accd-5d17459fe143\">\n",
              "    <div class=\"colab-df-container\">\n",
              "      <div>\n",
              "<style scoped>\n",
              "    .dataframe tbody tr th:only-of-type {\n",
              "        vertical-align: middle;\n",
              "    }\n",
              "\n",
              "    .dataframe tbody tr th {\n",
              "        vertical-align: top;\n",
              "    }\n",
              "\n",
              "    .dataframe thead th {\n",
              "        text-align: right;\n",
              "    }\n",
              "</style>\n",
              "<table border=\"1\" class=\"dataframe\">\n",
              "  <thead>\n",
              "    <tr style=\"text-align: right;\">\n",
              "      <th></th>\n",
              "      <th>Pclass</th>\n",
              "      <th>Sex</th>\n",
              "      <th>Age</th>\n",
              "      <th>Fare</th>\n",
              "    </tr>\n",
              "  </thead>\n",
              "  <tbody>\n",
              "    <tr>\n",
              "      <th>0</th>\n",
              "      <td>3</td>\n",
              "      <td>male</td>\n",
              "      <td>22.0</td>\n",
              "      <td>7.2500</td>\n",
              "    </tr>\n",
              "    <tr>\n",
              "      <th>1</th>\n",
              "      <td>1</td>\n",
              "      <td>female</td>\n",
              "      <td>38.0</td>\n",
              "      <td>71.2833</td>\n",
              "    </tr>\n",
              "    <tr>\n",
              "      <th>2</th>\n",
              "      <td>3</td>\n",
              "      <td>female</td>\n",
              "      <td>26.0</td>\n",
              "      <td>7.9250</td>\n",
              "    </tr>\n",
              "    <tr>\n",
              "      <th>3</th>\n",
              "      <td>1</td>\n",
              "      <td>female</td>\n",
              "      <td>35.0</td>\n",
              "      <td>53.1000</td>\n",
              "    </tr>\n",
              "    <tr>\n",
              "      <th>4</th>\n",
              "      <td>3</td>\n",
              "      <td>male</td>\n",
              "      <td>35.0</td>\n",
              "      <td>8.0500</td>\n",
              "    </tr>\n",
              "  </tbody>\n",
              "</table>\n",
              "</div>\n",
              "      <button class=\"colab-df-convert\" onclick=\"convertToInteractive('df-f2854a35-3236-4c56-accd-5d17459fe143')\"\n",
              "              title=\"Convert this dataframe to an interactive table.\"\n",
              "              style=\"display:none;\">\n",
              "        \n",
              "  <svg xmlns=\"http://www.w3.org/2000/svg\" height=\"24px\"viewBox=\"0 0 24 24\"\n",
              "       width=\"24px\">\n",
              "    <path d=\"M0 0h24v24H0V0z\" fill=\"none\"/>\n",
              "    <path d=\"M18.56 5.44l.94 2.06.94-2.06 2.06-.94-2.06-.94-.94-2.06-.94 2.06-2.06.94zm-11 1L8.5 8.5l.94-2.06 2.06-.94-2.06-.94L8.5 2.5l-.94 2.06-2.06.94zm10 10l.94 2.06.94-2.06 2.06-.94-2.06-.94-.94-2.06-.94 2.06-2.06.94z\"/><path d=\"M17.41 7.96l-1.37-1.37c-.4-.4-.92-.59-1.43-.59-.52 0-1.04.2-1.43.59L10.3 9.45l-7.72 7.72c-.78.78-.78 2.05 0 2.83L4 21.41c.39.39.9.59 1.41.59.51 0 1.02-.2 1.41-.59l7.78-7.78 2.81-2.81c.8-.78.8-2.07 0-2.86zM5.41 20L4 18.59l7.72-7.72 1.47 1.35L5.41 20z\"/>\n",
              "  </svg>\n",
              "      </button>\n",
              "      \n",
              "  <style>\n",
              "    .colab-df-container {\n",
              "      display:flex;\n",
              "      flex-wrap:wrap;\n",
              "      gap: 12px;\n",
              "    }\n",
              "\n",
              "    .colab-df-convert {\n",
              "      background-color: #E8F0FE;\n",
              "      border: none;\n",
              "      border-radius: 50%;\n",
              "      cursor: pointer;\n",
              "      display: none;\n",
              "      fill: #1967D2;\n",
              "      height: 32px;\n",
              "      padding: 0 0 0 0;\n",
              "      width: 32px;\n",
              "    }\n",
              "\n",
              "    .colab-df-convert:hover {\n",
              "      background-color: #E2EBFA;\n",
              "      box-shadow: 0px 1px 2px rgba(60, 64, 67, 0.3), 0px 1px 3px 1px rgba(60, 64, 67, 0.15);\n",
              "      fill: #174EA6;\n",
              "    }\n",
              "\n",
              "    [theme=dark] .colab-df-convert {\n",
              "      background-color: #3B4455;\n",
              "      fill: #D2E3FC;\n",
              "    }\n",
              "\n",
              "    [theme=dark] .colab-df-convert:hover {\n",
              "      background-color: #434B5C;\n",
              "      box-shadow: 0px 1px 3px 1px rgba(0, 0, 0, 0.15);\n",
              "      filter: drop-shadow(0px 1px 2px rgba(0, 0, 0, 0.3));\n",
              "      fill: #FFFFFF;\n",
              "    }\n",
              "  </style>\n",
              "\n",
              "      <script>\n",
              "        const buttonEl =\n",
              "          document.querySelector('#df-f2854a35-3236-4c56-accd-5d17459fe143 button.colab-df-convert');\n",
              "        buttonEl.style.display =\n",
              "          google.colab.kernel.accessAllowed ? 'block' : 'none';\n",
              "\n",
              "        async function convertToInteractive(key) {\n",
              "          const element = document.querySelector('#df-f2854a35-3236-4c56-accd-5d17459fe143');\n",
              "          const dataTable =\n",
              "            await google.colab.kernel.invokeFunction('convertToInteractive',\n",
              "                                                     [key], {});\n",
              "          if (!dataTable) return;\n",
              "\n",
              "          const docLinkHtml = 'Like what you see? Visit the ' +\n",
              "            '<a target=\"_blank\" href=https://colab.research.google.com/notebooks/data_table.ipynb>data table notebook</a>'\n",
              "            + ' to learn more about interactive tables.';\n",
              "          element.innerHTML = '';\n",
              "          dataTable['output_type'] = 'display_data';\n",
              "          await google.colab.output.renderOutput(dataTable, element);\n",
              "          const docLink = document.createElement('div');\n",
              "          docLink.innerHTML = docLinkHtml;\n",
              "          element.appendChild(docLink);\n",
              "        }\n",
              "      </script>\n",
              "    </div>\n",
              "  </div>\n",
              "  "
            ],
            "text/plain": [
              "   Pclass     Sex   Age     Fare\n",
              "0       3    male  22.0   7.2500\n",
              "1       1  female  38.0  71.2833\n",
              "2       3  female  26.0   7.9250\n",
              "3       1  female  35.0  53.1000\n",
              "4       3    male  35.0   8.0500"
            ]
          },
          "metadata": {},
          "execution_count": 8
        }
      ]
    },
    {
      "cell_type": "code",
      "metadata": {
        "id": "96YduW_DYA8T",
        "colab": {
          "base_uri": "https://localhost:8080/",
          "height": 204
        },
        "outputId": "b0af582f-1d24-41c0-da7f-c5ea06696800"
      },
      "source": [
        "train[label].head()"
      ],
      "execution_count": null,
      "outputs": [
        {
          "output_type": "execute_result",
          "data": {
            "text/html": [
              "\n",
              "  <div id=\"df-a2a5b663-2b67-4962-a178-136749a0ffed\">\n",
              "    <div class=\"colab-df-container\">\n",
              "      <div>\n",
              "<style scoped>\n",
              "    .dataframe tbody tr th:only-of-type {\n",
              "        vertical-align: middle;\n",
              "    }\n",
              "\n",
              "    .dataframe tbody tr th {\n",
              "        vertical-align: top;\n",
              "    }\n",
              "\n",
              "    .dataframe thead th {\n",
              "        text-align: right;\n",
              "    }\n",
              "</style>\n",
              "<table border=\"1\" class=\"dataframe\">\n",
              "  <thead>\n",
              "    <tr style=\"text-align: right;\">\n",
              "      <th></th>\n",
              "      <th>Survived</th>\n",
              "    </tr>\n",
              "  </thead>\n",
              "  <tbody>\n",
              "    <tr>\n",
              "      <th>0</th>\n",
              "      <td>0</td>\n",
              "    </tr>\n",
              "    <tr>\n",
              "      <th>1</th>\n",
              "      <td>1</td>\n",
              "    </tr>\n",
              "    <tr>\n",
              "      <th>2</th>\n",
              "      <td>1</td>\n",
              "    </tr>\n",
              "    <tr>\n",
              "      <th>3</th>\n",
              "      <td>1</td>\n",
              "    </tr>\n",
              "    <tr>\n",
              "      <th>4</th>\n",
              "      <td>0</td>\n",
              "    </tr>\n",
              "  </tbody>\n",
              "</table>\n",
              "</div>\n",
              "      <button class=\"colab-df-convert\" onclick=\"convertToInteractive('df-a2a5b663-2b67-4962-a178-136749a0ffed')\"\n",
              "              title=\"Convert this dataframe to an interactive table.\"\n",
              "              style=\"display:none;\">\n",
              "        \n",
              "  <svg xmlns=\"http://www.w3.org/2000/svg\" height=\"24px\"viewBox=\"0 0 24 24\"\n",
              "       width=\"24px\">\n",
              "    <path d=\"M0 0h24v24H0V0z\" fill=\"none\"/>\n",
              "    <path d=\"M18.56 5.44l.94 2.06.94-2.06 2.06-.94-2.06-.94-.94-2.06-.94 2.06-2.06.94zm-11 1L8.5 8.5l.94-2.06 2.06-.94-2.06-.94L8.5 2.5l-.94 2.06-2.06.94zm10 10l.94 2.06.94-2.06 2.06-.94-2.06-.94-.94-2.06-.94 2.06-2.06.94z\"/><path d=\"M17.41 7.96l-1.37-1.37c-.4-.4-.92-.59-1.43-.59-.52 0-1.04.2-1.43.59L10.3 9.45l-7.72 7.72c-.78.78-.78 2.05 0 2.83L4 21.41c.39.39.9.59 1.41.59.51 0 1.02-.2 1.41-.59l7.78-7.78 2.81-2.81c.8-.78.8-2.07 0-2.86zM5.41 20L4 18.59l7.72-7.72 1.47 1.35L5.41 20z\"/>\n",
              "  </svg>\n",
              "      </button>\n",
              "      \n",
              "  <style>\n",
              "    .colab-df-container {\n",
              "      display:flex;\n",
              "      flex-wrap:wrap;\n",
              "      gap: 12px;\n",
              "    }\n",
              "\n",
              "    .colab-df-convert {\n",
              "      background-color: #E8F0FE;\n",
              "      border: none;\n",
              "      border-radius: 50%;\n",
              "      cursor: pointer;\n",
              "      display: none;\n",
              "      fill: #1967D2;\n",
              "      height: 32px;\n",
              "      padding: 0 0 0 0;\n",
              "      width: 32px;\n",
              "    }\n",
              "\n",
              "    .colab-df-convert:hover {\n",
              "      background-color: #E2EBFA;\n",
              "      box-shadow: 0px 1px 2px rgba(60, 64, 67, 0.3), 0px 1px 3px 1px rgba(60, 64, 67, 0.15);\n",
              "      fill: #174EA6;\n",
              "    }\n",
              "\n",
              "    [theme=dark] .colab-df-convert {\n",
              "      background-color: #3B4455;\n",
              "      fill: #D2E3FC;\n",
              "    }\n",
              "\n",
              "    [theme=dark] .colab-df-convert:hover {\n",
              "      background-color: #434B5C;\n",
              "      box-shadow: 0px 1px 3px 1px rgba(0, 0, 0, 0.15);\n",
              "      filter: drop-shadow(0px 1px 2px rgba(0, 0, 0, 0.3));\n",
              "      fill: #FFFFFF;\n",
              "    }\n",
              "  </style>\n",
              "\n",
              "      <script>\n",
              "        const buttonEl =\n",
              "          document.querySelector('#df-a2a5b663-2b67-4962-a178-136749a0ffed button.colab-df-convert');\n",
              "        buttonEl.style.display =\n",
              "          google.colab.kernel.accessAllowed ? 'block' : 'none';\n",
              "\n",
              "        async function convertToInteractive(key) {\n",
              "          const element = document.querySelector('#df-a2a5b663-2b67-4962-a178-136749a0ffed');\n",
              "          const dataTable =\n",
              "            await google.colab.kernel.invokeFunction('convertToInteractive',\n",
              "                                                     [key], {});\n",
              "          if (!dataTable) return;\n",
              "\n",
              "          const docLinkHtml = 'Like what you see? Visit the ' +\n",
              "            '<a target=\"_blank\" href=https://colab.research.google.com/notebooks/data_table.ipynb>data table notebook</a>'\n",
              "            + ' to learn more about interactive tables.';\n",
              "          element.innerHTML = '';\n",
              "          dataTable['output_type'] = 'display_data';\n",
              "          await google.colab.output.renderOutput(dataTable, element);\n",
              "          const docLink = document.createElement('div');\n",
              "          docLink.innerHTML = docLinkHtml;\n",
              "          element.appendChild(docLink);\n",
              "        }\n",
              "      </script>\n",
              "    </div>\n",
              "  </div>\n",
              "  "
            ],
            "text/plain": [
              "   Survived\n",
              "0         0\n",
              "1         1\n",
              "2         1\n",
              "3         1\n",
              "4         0"
            ]
          },
          "metadata": {},
          "execution_count": 9
        }
      ]
    },
    {
      "cell_type": "code",
      "metadata": {
        "id": "lsYkvBRBWxfb"
      },
      "source": [
        "from sklearn.model_selection import train_test_split"
      ],
      "execution_count": null,
      "outputs": []
    },
    {
      "cell_type": "markdown",
      "metadata": {
        "id": "w6kpIYhWYK2v"
      },
      "source": [
        "* **test_size**: validation set에 할당할 비율 (20% -> 0.2)\n",
        "* **shuffle**: 셔플 옵션 (기본 True)\n",
        "* **random_state**: 랜덤 시드값"
      ]
    },
    {
      "cell_type": "markdown",
      "metadata": {
        "id": "8NWhxyA7YeJQ"
      },
      "source": [
        "# **return받는 데이터의 순서가 중요하다.!!!!!!!!!!!!!!!!!!!!!!!!**"
      ]
    },
    {
      "cell_type": "code",
      "metadata": {
        "id": "6boSgaQOW6E4"
      },
      "source": [
        "x, x_val, y, y_val = train_test_split(train[feature], train[label], test_size=0.2, shuffle=True, random_state=30)"
      ],
      "execution_count": null,
      "outputs": []
    },
    {
      "cell_type": "code",
      "metadata": {
        "id": "6eyx-uhZW53W",
        "colab": {
          "base_uri": "https://localhost:8080/"
        },
        "outputId": "e64925e9-559e-47e9-eb2d-a4dc1be95b71"
      },
      "source": [
        "x.shape, y.shape"
      ],
      "execution_count": null,
      "outputs": [
        {
          "output_type": "execute_result",
          "data": {
            "text/plain": [
              "((712, 4), (712, 1))"
            ]
          },
          "metadata": {},
          "execution_count": 17
        }
      ]
    },
    {
      "cell_type": "code",
      "metadata": {
        "id": "vKSe2CwbW5ml",
        "colab": {
          "base_uri": "https://localhost:8080/"
        },
        "outputId": "9b69aae0-b3a3-401e-a414-e63880a46d8f"
      },
      "source": [
        "x_val.shape, y_val.shape"
      ],
      "execution_count": null,
      "outputs": [
        {
          "output_type": "execute_result",
          "data": {
            "text/plain": [
              "((179, 4), (179, 1))"
            ]
          },
          "metadata": {},
          "execution_count": 18
        }
      ]
    },
    {
      "cell_type": "markdown",
      "metadata": {
        "id": "aZI4o9OyxZGo"
      },
      "source": [
        "## 전처리: 결측치"
      ]
    },
    {
      "cell_type": "code",
      "metadata": {
        "id": "eLTIlXc71vUO",
        "outputId": "d9db7534-816f-4b7c-f5cf-f9d1a60e03f8",
        "colab": {
          "base_uri": "https://localhost:8080/"
        }
      },
      "source": [
        "train.info()"
      ],
      "execution_count": null,
      "outputs": [
        {
          "output_type": "stream",
          "name": "stdout",
          "text": [
            "<class 'pandas.core.frame.DataFrame'>\n",
            "RangeIndex: 891 entries, 0 to 890\n",
            "Data columns (total 12 columns):\n",
            " #   Column       Non-Null Count  Dtype  \n",
            "---  ------       --------------  -----  \n",
            " 0   PassengerId  891 non-null    int64  \n",
            " 1   Survived     891 non-null    int64  \n",
            " 2   Pclass       891 non-null    int64  \n",
            " 3   Name         891 non-null    object \n",
            " 4   Sex          891 non-null    object \n",
            " 5   Age          714 non-null    float64\n",
            " 6   SibSp        891 non-null    int64  \n",
            " 7   Parch        891 non-null    int64  \n",
            " 8   Ticket       891 non-null    object \n",
            " 9   Fare         891 non-null    float64\n",
            " 10  Cabin        204 non-null    object \n",
            " 11  Embarked     889 non-null    object \n",
            "dtypes: float64(2), int64(5), object(5)\n",
            "memory usage: 83.7+ KB\n"
          ]
        }
      ]
    },
    {
      "cell_type": "markdown",
      "metadata": {
        "id": "vcUMWx2b1nPl"
      },
      "source": [
        "결측치를 확인하는 방법은 pandas의 **isnull()** \n",
        "\n",
        "그리고 합계를 구하는 sum()을 통해 한 눈에 확인할 수 있습니다."
      ]
    },
    {
      "cell_type": "code",
      "metadata": {
        "id": "mWIoNp631eqd",
        "outputId": "7d3d38fb-f31a-41d2-9417-2ecefc18995d",
        "colab": {
          "base_uri": "https://localhost:8080/"
        }
      },
      "source": [
        "train.isnull().sum()"
      ],
      "execution_count": null,
      "outputs": [
        {
          "output_type": "execute_result",
          "data": {
            "text/plain": [
              "PassengerId      0\n",
              "Survived         0\n",
              "Pclass           0\n",
              "Name             0\n",
              "Sex              0\n",
              "Age            177\n",
              "SibSp            0\n",
              "Parch            0\n",
              "Ticket           0\n",
              "Fare             0\n",
              "Cabin          687\n",
              "Embarked         2\n",
              "dtype: int64"
            ]
          },
          "metadata": {},
          "execution_count": 23
        }
      ]
    },
    {
      "cell_type": "markdown",
      "metadata": {
        "id": "qw2x_X_X12oG"
      },
      "source": [
        "개별 column의 결측치에 대하여 확인하는 방법은 다음과 같습니다."
      ]
    },
    {
      "cell_type": "code",
      "metadata": {
        "id": "wrz5kTeuxjcA",
        "outputId": "cdfe8390-f8fd-4eca-f8e1-fa5259e9db28",
        "colab": {
          "base_uri": "https://localhost:8080/"
        }
      },
      "source": [
        "train['Age'].isnull().sum()"
      ],
      "execution_count": null,
      "outputs": [
        {
          "output_type": "execute_result",
          "data": {
            "text/plain": [
              "177"
            ]
          },
          "metadata": {},
          "execution_count": 24
        }
      ]
    },
    {
      "cell_type": "markdown",
      "metadata": {
        "id": "imJ5si6qRDki"
      },
      "source": [
        "Impute 도큐먼트(https://scikit-learn.org/stable/modules/impute.html)"
      ]
    },
    {
      "cell_type": "markdown",
      "metadata": {
        "id": "EZSpyI1U2D8n"
      },
      "source": [
        "### 1. 수치형 (Numerical Column) 데이터에 대한 결측치 처리"
      ]
    },
    {
      "cell_type": "code",
      "source": [
        "train['Age'].describe()"
      ],
      "metadata": {
        "colab": {
          "base_uri": "https://localhost:8080/"
        },
        "id": "ZhsAZ1FdMhnX",
        "outputId": "23211f4a-873f-42d7-d433-6534d3f1fb8b"
      },
      "execution_count": null,
      "outputs": [
        {
          "output_type": "execute_result",
          "data": {
            "text/plain": [
              "count    714.000000\n",
              "mean      29.699118\n",
              "std       14.526497\n",
              "min        0.420000\n",
              "25%       20.125000\n",
              "50%       28.000000\n",
              "75%       38.000000\n",
              "max       80.000000\n",
              "Name: Age, dtype: float64"
            ]
          },
          "metadata": {},
          "execution_count": 25
        }
      ]
    },
    {
      "cell_type": "code",
      "metadata": {
        "id": "zJIIU-1SSkow",
        "outputId": "725063f9-a0d4-42d5-ee80-12eca0101e58",
        "colab": {
          "base_uri": "https://localhost:8080/"
        }
      },
      "source": [
        "train['Age'].fillna(0).describe()"
      ],
      "execution_count": null,
      "outputs": [
        {
          "output_type": "execute_result",
          "data": {
            "text/plain": [
              "count    891.000000\n",
              "mean      23.799293\n",
              "std       17.596074\n",
              "min        0.000000\n",
              "25%        6.000000\n",
              "50%       24.000000\n",
              "75%       35.000000\n",
              "max       80.000000\n",
              "Name: Age, dtype: float64"
            ]
          },
          "metadata": {},
          "execution_count": 26
        }
      ]
    },
    {
      "cell_type": "code",
      "metadata": {
        "id": "OyEJxd_USYV5",
        "outputId": "cca164df-5c5b-4ddf-f1eb-7bf908804919",
        "colab": {
          "base_uri": "https://localhost:8080/"
        }
      },
      "source": [
        "train['Age'].fillna(train['Age'].mean()).describe()"
      ],
      "execution_count": null,
      "outputs": [
        {
          "output_type": "execute_result",
          "data": {
            "text/plain": [
              "count    891.000000\n",
              "mean      29.699118\n",
              "std       13.002015\n",
              "min        0.420000\n",
              "25%       22.000000\n",
              "50%       29.699118\n",
              "75%       35.000000\n",
              "max       80.000000\n",
              "Name: Age, dtype: float64"
            ]
          },
          "metadata": {},
          "execution_count": 28
        }
      ]
    },
    {
      "cell_type": "markdown",
      "metadata": {
        "id": "FwfWolTfSaaw"
      },
      "source": [
        "imputer: 2개 이상의 column을 한 번에 처리할 때"
      ]
    },
    {
      "cell_type": "code",
      "metadata": {
        "id": "Aj_gtg0iSZSQ"
      },
      "source": [
        "from sklearn.impute import SimpleImputer"
      ],
      "execution_count": null,
      "outputs": []
    },
    {
      "cell_type": "code",
      "metadata": {
        "id": "ITdEDze32MAu"
      },
      "source": [
        "impute = SimpleImputer(strategy='mean')"
      ],
      "execution_count": null,
      "outputs": []
    },
    {
      "cell_type": "markdown",
      "metadata": {
        "id": "V7bTVHE31JZo"
      },
      "source": [
        "fit() 을 통해 결측치에 대한 학습을 진행합니다."
      ]
    },
    {
      "cell_type": "code",
      "metadata": {
        "id": "NtLzqFsa0U6Q",
        "outputId": "f2c3fb09-8e56-43f9-81ce-cbe42e3f315a",
        "colab": {
          "base_uri": "https://localhost:8080/"
        }
      },
      "source": [
        "impute.fit(train[['Age']])"
      ],
      "execution_count": null,
      "outputs": [
        {
          "output_type": "execute_result",
          "data": {
            "text/plain": [
              "SimpleImputer()"
            ]
          },
          "metadata": {},
          "execution_count": 47
        }
      ]
    },
    {
      "cell_type": "markdown",
      "metadata": {
        "id": "JoguTfi_1PvW"
      },
      "source": [
        "transform() 은 실제 결측치에 대한 처리를 해주는 함수합니다."
      ]
    },
    {
      "cell_type": "code",
      "metadata": {
        "id": "qVNv7hgY0aBP"
      },
      "source": [
        "result = impute.transform(train[['Age']])"
      ],
      "execution_count": null,
      "outputs": []
    },
    {
      "cell_type": "code",
      "metadata": {
        "id": "PZWxCcf05txL",
        "outputId": "c012f9bb-979b-45ab-8063-8913d931e968",
        "colab": {
          "base_uri": "https://localhost:8080/"
        }
      },
      "source": [
        "result"
      ],
      "execution_count": null,
      "outputs": [
        {
          "output_type": "execute_result",
          "data": {
            "text/plain": [
              "array([[22.  ],\n",
              "       [38.  ],\n",
              "       [26.  ],\n",
              "       [35.  ],\n",
              "       [35.  ],\n",
              "       [28.  ],\n",
              "       [54.  ],\n",
              "       [ 2.  ],\n",
              "       [27.  ],\n",
              "       [14.  ],\n",
              "       [ 4.  ],\n",
              "       [58.  ],\n",
              "       [20.  ],\n",
              "       [39.  ],\n",
              "       [14.  ],\n",
              "       [55.  ],\n",
              "       [ 2.  ],\n",
              "       [28.  ],\n",
              "       [31.  ],\n",
              "       [28.  ],\n",
              "       [35.  ],\n",
              "       [34.  ],\n",
              "       [15.  ],\n",
              "       [28.  ],\n",
              "       [ 8.  ],\n",
              "       [38.  ],\n",
              "       [28.  ],\n",
              "       [19.  ],\n",
              "       [28.  ],\n",
              "       [28.  ],\n",
              "       [40.  ],\n",
              "       [28.  ],\n",
              "       [28.  ],\n",
              "       [66.  ],\n",
              "       [28.  ],\n",
              "       [42.  ],\n",
              "       [28.  ],\n",
              "       [21.  ],\n",
              "       [18.  ],\n",
              "       [14.  ],\n",
              "       [40.  ],\n",
              "       [27.  ],\n",
              "       [28.  ],\n",
              "       [ 3.  ],\n",
              "       [19.  ],\n",
              "       [28.  ],\n",
              "       [28.  ],\n",
              "       [28.  ],\n",
              "       [28.  ],\n",
              "       [18.  ],\n",
              "       [ 7.  ],\n",
              "       [21.  ],\n",
              "       [49.  ],\n",
              "       [29.  ],\n",
              "       [65.  ],\n",
              "       [28.  ],\n",
              "       [21.  ],\n",
              "       [28.5 ],\n",
              "       [ 5.  ],\n",
              "       [11.  ],\n",
              "       [22.  ],\n",
              "       [38.  ],\n",
              "       [45.  ],\n",
              "       [ 4.  ],\n",
              "       [28.  ],\n",
              "       [28.  ],\n",
              "       [29.  ],\n",
              "       [19.  ],\n",
              "       [17.  ],\n",
              "       [26.  ],\n",
              "       [32.  ],\n",
              "       [16.  ],\n",
              "       [21.  ],\n",
              "       [26.  ],\n",
              "       [32.  ],\n",
              "       [25.  ],\n",
              "       [28.  ],\n",
              "       [28.  ],\n",
              "       [ 0.83],\n",
              "       [30.  ],\n",
              "       [22.  ],\n",
              "       [29.  ],\n",
              "       [28.  ],\n",
              "       [28.  ],\n",
              "       [17.  ],\n",
              "       [33.  ],\n",
              "       [16.  ],\n",
              "       [28.  ],\n",
              "       [23.  ],\n",
              "       [24.  ],\n",
              "       [29.  ],\n",
              "       [20.  ],\n",
              "       [46.  ],\n",
              "       [26.  ],\n",
              "       [59.  ],\n",
              "       [28.  ],\n",
              "       [71.  ],\n",
              "       [23.  ],\n",
              "       [34.  ],\n",
              "       [34.  ],\n",
              "       [28.  ],\n",
              "       [28.  ],\n",
              "       [21.  ],\n",
              "       [33.  ],\n",
              "       [37.  ],\n",
              "       [28.  ],\n",
              "       [21.  ],\n",
              "       [28.  ],\n",
              "       [38.  ],\n",
              "       [28.  ],\n",
              "       [47.  ],\n",
              "       [14.5 ],\n",
              "       [22.  ],\n",
              "       [20.  ],\n",
              "       [17.  ],\n",
              "       [21.  ],\n",
              "       [70.5 ],\n",
              "       [29.  ],\n",
              "       [24.  ],\n",
              "       [ 2.  ],\n",
              "       [21.  ],\n",
              "       [28.  ],\n",
              "       [32.5 ],\n",
              "       [32.5 ],\n",
              "       [54.  ],\n",
              "       [12.  ],\n",
              "       [28.  ],\n",
              "       [24.  ],\n",
              "       [28.  ],\n",
              "       [45.  ],\n",
              "       [33.  ],\n",
              "       [20.  ],\n",
              "       [47.  ],\n",
              "       [29.  ],\n",
              "       [25.  ],\n",
              "       [23.  ],\n",
              "       [19.  ],\n",
              "       [37.  ],\n",
              "       [16.  ],\n",
              "       [24.  ],\n",
              "       [28.  ],\n",
              "       [22.  ],\n",
              "       [24.  ],\n",
              "       [19.  ],\n",
              "       [18.  ],\n",
              "       [19.  ],\n",
              "       [27.  ],\n",
              "       [ 9.  ],\n",
              "       [36.5 ],\n",
              "       [42.  ],\n",
              "       [51.  ],\n",
              "       [22.  ],\n",
              "       [55.5 ],\n",
              "       [40.5 ],\n",
              "       [28.  ],\n",
              "       [51.  ],\n",
              "       [16.  ],\n",
              "       [30.  ],\n",
              "       [28.  ],\n",
              "       [28.  ],\n",
              "       [44.  ],\n",
              "       [40.  ],\n",
              "       [26.  ],\n",
              "       [17.  ],\n",
              "       [ 1.  ],\n",
              "       [ 9.  ],\n",
              "       [28.  ],\n",
              "       [45.  ],\n",
              "       [28.  ],\n",
              "       [28.  ],\n",
              "       [61.  ],\n",
              "       [ 4.  ],\n",
              "       [ 1.  ],\n",
              "       [21.  ],\n",
              "       [56.  ],\n",
              "       [18.  ],\n",
              "       [28.  ],\n",
              "       [50.  ],\n",
              "       [30.  ],\n",
              "       [36.  ],\n",
              "       [28.  ],\n",
              "       [28.  ],\n",
              "       [ 9.  ],\n",
              "       [ 1.  ],\n",
              "       [ 4.  ],\n",
              "       [28.  ],\n",
              "       [28.  ],\n",
              "       [45.  ],\n",
              "       [40.  ],\n",
              "       [36.  ],\n",
              "       [32.  ],\n",
              "       [19.  ],\n",
              "       [19.  ],\n",
              "       [ 3.  ],\n",
              "       [44.  ],\n",
              "       [58.  ],\n",
              "       [28.  ],\n",
              "       [42.  ],\n",
              "       [28.  ],\n",
              "       [24.  ],\n",
              "       [28.  ],\n",
              "       [28.  ],\n",
              "       [34.  ],\n",
              "       [45.5 ],\n",
              "       [18.  ],\n",
              "       [ 2.  ],\n",
              "       [32.  ],\n",
              "       [26.  ],\n",
              "       [16.  ],\n",
              "       [40.  ],\n",
              "       [24.  ],\n",
              "       [35.  ],\n",
              "       [22.  ],\n",
              "       [30.  ],\n",
              "       [28.  ],\n",
              "       [31.  ],\n",
              "       [27.  ],\n",
              "       [42.  ],\n",
              "       [32.  ],\n",
              "       [30.  ],\n",
              "       [16.  ],\n",
              "       [27.  ],\n",
              "       [51.  ],\n",
              "       [28.  ],\n",
              "       [38.  ],\n",
              "       [22.  ],\n",
              "       [19.  ],\n",
              "       [20.5 ],\n",
              "       [18.  ],\n",
              "       [28.  ],\n",
              "       [35.  ],\n",
              "       [29.  ],\n",
              "       [59.  ],\n",
              "       [ 5.  ],\n",
              "       [24.  ],\n",
              "       [28.  ],\n",
              "       [44.  ],\n",
              "       [ 8.  ],\n",
              "       [19.  ],\n",
              "       [33.  ],\n",
              "       [28.  ],\n",
              "       [28.  ],\n",
              "       [29.  ],\n",
              "       [22.  ],\n",
              "       [30.  ],\n",
              "       [44.  ],\n",
              "       [25.  ],\n",
              "       [24.  ],\n",
              "       [37.  ],\n",
              "       [54.  ],\n",
              "       [28.  ],\n",
              "       [29.  ],\n",
              "       [62.  ],\n",
              "       [30.  ],\n",
              "       [41.  ],\n",
              "       [29.  ],\n",
              "       [28.  ],\n",
              "       [30.  ],\n",
              "       [35.  ],\n",
              "       [50.  ],\n",
              "       [28.  ],\n",
              "       [ 3.  ],\n",
              "       [52.  ],\n",
              "       [40.  ],\n",
              "       [28.  ],\n",
              "       [36.  ],\n",
              "       [16.  ],\n",
              "       [25.  ],\n",
              "       [58.  ],\n",
              "       [35.  ],\n",
              "       [28.  ],\n",
              "       [25.  ],\n",
              "       [41.  ],\n",
              "       [37.  ],\n",
              "       [28.  ],\n",
              "       [63.  ],\n",
              "       [45.  ],\n",
              "       [28.  ],\n",
              "       [ 7.  ],\n",
              "       [35.  ],\n",
              "       [65.  ],\n",
              "       [28.  ],\n",
              "       [16.  ],\n",
              "       [19.  ],\n",
              "       [28.  ],\n",
              "       [33.  ],\n",
              "       [30.  ],\n",
              "       [22.  ],\n",
              "       [42.  ],\n",
              "       [22.  ],\n",
              "       [26.  ],\n",
              "       [19.  ],\n",
              "       [36.  ],\n",
              "       [24.  ],\n",
              "       [24.  ],\n",
              "       [28.  ],\n",
              "       [23.5 ],\n",
              "       [ 2.  ],\n",
              "       [28.  ],\n",
              "       [50.  ],\n",
              "       [28.  ],\n",
              "       [28.  ],\n",
              "       [19.  ],\n",
              "       [28.  ],\n",
              "       [28.  ],\n",
              "       [ 0.92],\n",
              "       [28.  ],\n",
              "       [17.  ],\n",
              "       [30.  ],\n",
              "       [30.  ],\n",
              "       [24.  ],\n",
              "       [18.  ],\n",
              "       [26.  ],\n",
              "       [28.  ],\n",
              "       [43.  ],\n",
              "       [26.  ],\n",
              "       [24.  ],\n",
              "       [54.  ],\n",
              "       [31.  ],\n",
              "       [40.  ],\n",
              "       [22.  ],\n",
              "       [27.  ],\n",
              "       [30.  ],\n",
              "       [22.  ],\n",
              "       [28.  ],\n",
              "       [36.  ],\n",
              "       [61.  ],\n",
              "       [36.  ],\n",
              "       [31.  ],\n",
              "       [16.  ],\n",
              "       [28.  ],\n",
              "       [45.5 ],\n",
              "       [38.  ],\n",
              "       [16.  ],\n",
              "       [28.  ],\n",
              "       [28.  ],\n",
              "       [29.  ],\n",
              "       [41.  ],\n",
              "       [45.  ],\n",
              "       [45.  ],\n",
              "       [ 2.  ],\n",
              "       [24.  ],\n",
              "       [28.  ],\n",
              "       [25.  ],\n",
              "       [36.  ],\n",
              "       [24.  ],\n",
              "       [40.  ],\n",
              "       [28.  ],\n",
              "       [ 3.  ],\n",
              "       [42.  ],\n",
              "       [23.  ],\n",
              "       [28.  ],\n",
              "       [15.  ],\n",
              "       [25.  ],\n",
              "       [28.  ],\n",
              "       [28.  ],\n",
              "       [22.  ],\n",
              "       [38.  ],\n",
              "       [28.  ],\n",
              "       [28.  ],\n",
              "       [40.  ],\n",
              "       [29.  ],\n",
              "       [45.  ],\n",
              "       [35.  ],\n",
              "       [28.  ],\n",
              "       [30.  ],\n",
              "       [60.  ],\n",
              "       [28.  ],\n",
              "       [28.  ],\n",
              "       [24.  ],\n",
              "       [25.  ],\n",
              "       [18.  ],\n",
              "       [19.  ],\n",
              "       [22.  ],\n",
              "       [ 3.  ],\n",
              "       [28.  ],\n",
              "       [22.  ],\n",
              "       [27.  ],\n",
              "       [20.  ],\n",
              "       [19.  ],\n",
              "       [42.  ],\n",
              "       [ 1.  ],\n",
              "       [32.  ],\n",
              "       [35.  ],\n",
              "       [28.  ],\n",
              "       [18.  ],\n",
              "       [ 1.  ],\n",
              "       [36.  ],\n",
              "       [28.  ],\n",
              "       [17.  ],\n",
              "       [36.  ],\n",
              "       [21.  ],\n",
              "       [28.  ],\n",
              "       [23.  ],\n",
              "       [24.  ],\n",
              "       [22.  ],\n",
              "       [31.  ],\n",
              "       [46.  ],\n",
              "       [23.  ],\n",
              "       [28.  ],\n",
              "       [39.  ],\n",
              "       [26.  ],\n",
              "       [21.  ],\n",
              "       [28.  ],\n",
              "       [20.  ],\n",
              "       [34.  ],\n",
              "       [51.  ],\n",
              "       [ 3.  ],\n",
              "       [21.  ],\n",
              "       [28.  ],\n",
              "       [28.  ],\n",
              "       [28.  ],\n",
              "       [33.  ],\n",
              "       [28.  ],\n",
              "       [44.  ],\n",
              "       [28.  ],\n",
              "       [34.  ],\n",
              "       [18.  ],\n",
              "       [30.  ],\n",
              "       [10.  ],\n",
              "       [28.  ],\n",
              "       [21.  ],\n",
              "       [29.  ],\n",
              "       [28.  ],\n",
              "       [18.  ],\n",
              "       [28.  ],\n",
              "       [28.  ],\n",
              "       [19.  ],\n",
              "       [28.  ],\n",
              "       [32.  ],\n",
              "       [28.  ],\n",
              "       [28.  ],\n",
              "       [42.  ],\n",
              "       [17.  ],\n",
              "       [50.  ],\n",
              "       [14.  ],\n",
              "       [21.  ],\n",
              "       [24.  ],\n",
              "       [64.  ],\n",
              "       [31.  ],\n",
              "       [45.  ],\n",
              "       [20.  ],\n",
              "       [25.  ],\n",
              "       [28.  ],\n",
              "       [28.  ],\n",
              "       [ 4.  ],\n",
              "       [13.  ],\n",
              "       [34.  ],\n",
              "       [ 5.  ],\n",
              "       [52.  ],\n",
              "       [36.  ],\n",
              "       [28.  ],\n",
              "       [30.  ],\n",
              "       [49.  ],\n",
              "       [28.  ],\n",
              "       [29.  ],\n",
              "       [65.  ],\n",
              "       [28.  ],\n",
              "       [50.  ],\n",
              "       [28.  ],\n",
              "       [48.  ],\n",
              "       [34.  ],\n",
              "       [47.  ],\n",
              "       [48.  ],\n",
              "       [28.  ],\n",
              "       [38.  ],\n",
              "       [28.  ],\n",
              "       [56.  ],\n",
              "       [28.  ],\n",
              "       [ 0.75],\n",
              "       [28.  ],\n",
              "       [38.  ],\n",
              "       [33.  ],\n",
              "       [23.  ],\n",
              "       [22.  ],\n",
              "       [28.  ],\n",
              "       [34.  ],\n",
              "       [29.  ],\n",
              "       [22.  ],\n",
              "       [ 2.  ],\n",
              "       [ 9.  ],\n",
              "       [28.  ],\n",
              "       [50.  ],\n",
              "       [63.  ],\n",
              "       [25.  ],\n",
              "       [28.  ],\n",
              "       [35.  ],\n",
              "       [58.  ],\n",
              "       [30.  ],\n",
              "       [ 9.  ],\n",
              "       [28.  ],\n",
              "       [21.  ],\n",
              "       [55.  ],\n",
              "       [71.  ],\n",
              "       [21.  ],\n",
              "       [28.  ],\n",
              "       [54.  ],\n",
              "       [28.  ],\n",
              "       [25.  ],\n",
              "       [24.  ],\n",
              "       [17.  ],\n",
              "       [21.  ],\n",
              "       [28.  ],\n",
              "       [37.  ],\n",
              "       [16.  ],\n",
              "       [18.  ],\n",
              "       [33.  ],\n",
              "       [28.  ],\n",
              "       [28.  ],\n",
              "       [26.  ],\n",
              "       [29.  ],\n",
              "       [28.  ],\n",
              "       [36.  ],\n",
              "       [54.  ],\n",
              "       [24.  ],\n",
              "       [47.  ],\n",
              "       [34.  ],\n",
              "       [28.  ],\n",
              "       [36.  ],\n",
              "       [32.  ],\n",
              "       [30.  ],\n",
              "       [22.  ],\n",
              "       [28.  ],\n",
              "       [44.  ],\n",
              "       [28.  ],\n",
              "       [40.5 ],\n",
              "       [50.  ],\n",
              "       [28.  ],\n",
              "       [39.  ],\n",
              "       [23.  ],\n",
              "       [ 2.  ],\n",
              "       [28.  ],\n",
              "       [17.  ],\n",
              "       [28.  ],\n",
              "       [30.  ],\n",
              "       [ 7.  ],\n",
              "       [45.  ],\n",
              "       [30.  ],\n",
              "       [28.  ],\n",
              "       [22.  ],\n",
              "       [36.  ],\n",
              "       [ 9.  ],\n",
              "       [11.  ],\n",
              "       [32.  ],\n",
              "       [50.  ],\n",
              "       [64.  ],\n",
              "       [19.  ],\n",
              "       [28.  ],\n",
              "       [33.  ],\n",
              "       [ 8.  ],\n",
              "       [17.  ],\n",
              "       [27.  ],\n",
              "       [28.  ],\n",
              "       [22.  ],\n",
              "       [22.  ],\n",
              "       [62.  ],\n",
              "       [48.  ],\n",
              "       [28.  ],\n",
              "       [39.  ],\n",
              "       [36.  ],\n",
              "       [28.  ],\n",
              "       [40.  ],\n",
              "       [28.  ],\n",
              "       [28.  ],\n",
              "       [28.  ],\n",
              "       [24.  ],\n",
              "       [19.  ],\n",
              "       [29.  ],\n",
              "       [28.  ],\n",
              "       [32.  ],\n",
              "       [62.  ],\n",
              "       [53.  ],\n",
              "       [36.  ],\n",
              "       [28.  ],\n",
              "       [16.  ],\n",
              "       [19.  ],\n",
              "       [34.  ],\n",
              "       [39.  ],\n",
              "       [28.  ],\n",
              "       [32.  ],\n",
              "       [25.  ],\n",
              "       [39.  ],\n",
              "       [54.  ],\n",
              "       [36.  ],\n",
              "       [28.  ],\n",
              "       [18.  ],\n",
              "       [47.  ],\n",
              "       [60.  ],\n",
              "       [22.  ],\n",
              "       [28.  ],\n",
              "       [35.  ],\n",
              "       [52.  ],\n",
              "       [47.  ],\n",
              "       [28.  ],\n",
              "       [37.  ],\n",
              "       [36.  ],\n",
              "       [28.  ],\n",
              "       [49.  ],\n",
              "       [28.  ],\n",
              "       [49.  ],\n",
              "       [24.  ],\n",
              "       [28.  ],\n",
              "       [28.  ],\n",
              "       [44.  ],\n",
              "       [35.  ],\n",
              "       [36.  ],\n",
              "       [30.  ],\n",
              "       [27.  ],\n",
              "       [22.  ],\n",
              "       [40.  ],\n",
              "       [39.  ],\n",
              "       [28.  ],\n",
              "       [28.  ],\n",
              "       [28.  ],\n",
              "       [35.  ],\n",
              "       [24.  ],\n",
              "       [34.  ],\n",
              "       [26.  ],\n",
              "       [ 4.  ],\n",
              "       [26.  ],\n",
              "       [27.  ],\n",
              "       [42.  ],\n",
              "       [20.  ],\n",
              "       [21.  ],\n",
              "       [21.  ],\n",
              "       [61.  ],\n",
              "       [57.  ],\n",
              "       [21.  ],\n",
              "       [26.  ],\n",
              "       [28.  ],\n",
              "       [80.  ],\n",
              "       [51.  ],\n",
              "       [32.  ],\n",
              "       [28.  ],\n",
              "       [ 9.  ],\n",
              "       [28.  ],\n",
              "       [32.  ],\n",
              "       [31.  ],\n",
              "       [41.  ],\n",
              "       [28.  ],\n",
              "       [20.  ],\n",
              "       [24.  ],\n",
              "       [ 2.  ],\n",
              "       [28.  ],\n",
              "       [ 0.75],\n",
              "       [48.  ],\n",
              "       [19.  ],\n",
              "       [56.  ],\n",
              "       [28.  ],\n",
              "       [23.  ],\n",
              "       [28.  ],\n",
              "       [18.  ],\n",
              "       [21.  ],\n",
              "       [28.  ],\n",
              "       [18.  ],\n",
              "       [24.  ],\n",
              "       [28.  ],\n",
              "       [32.  ],\n",
              "       [23.  ],\n",
              "       [58.  ],\n",
              "       [50.  ],\n",
              "       [40.  ],\n",
              "       [47.  ],\n",
              "       [36.  ],\n",
              "       [20.  ],\n",
              "       [32.  ],\n",
              "       [25.  ],\n",
              "       [28.  ],\n",
              "       [43.  ],\n",
              "       [28.  ],\n",
              "       [40.  ],\n",
              "       [31.  ],\n",
              "       [70.  ],\n",
              "       [31.  ],\n",
              "       [28.  ],\n",
              "       [18.  ],\n",
              "       [24.5 ],\n",
              "       [18.  ],\n",
              "       [43.  ],\n",
              "       [36.  ],\n",
              "       [28.  ],\n",
              "       [27.  ],\n",
              "       [20.  ],\n",
              "       [14.  ],\n",
              "       [60.  ],\n",
              "       [25.  ],\n",
              "       [14.  ],\n",
              "       [19.  ],\n",
              "       [18.  ],\n",
              "       [15.  ],\n",
              "       [31.  ],\n",
              "       [ 4.  ],\n",
              "       [28.  ],\n",
              "       [25.  ],\n",
              "       [60.  ],\n",
              "       [52.  ],\n",
              "       [44.  ],\n",
              "       [28.  ],\n",
              "       [49.  ],\n",
              "       [42.  ],\n",
              "       [18.  ],\n",
              "       [35.  ],\n",
              "       [18.  ],\n",
              "       [25.  ],\n",
              "       [26.  ],\n",
              "       [39.  ],\n",
              "       [45.  ],\n",
              "       [42.  ],\n",
              "       [22.  ],\n",
              "       [28.  ],\n",
              "       [24.  ],\n",
              "       [28.  ],\n",
              "       [48.  ],\n",
              "       [29.  ],\n",
              "       [52.  ],\n",
              "       [19.  ],\n",
              "       [38.  ],\n",
              "       [27.  ],\n",
              "       [28.  ],\n",
              "       [33.  ],\n",
              "       [ 6.  ],\n",
              "       [17.  ],\n",
              "       [34.  ],\n",
              "       [50.  ],\n",
              "       [27.  ],\n",
              "       [20.  ],\n",
              "       [30.  ],\n",
              "       [28.  ],\n",
              "       [25.  ],\n",
              "       [25.  ],\n",
              "       [29.  ],\n",
              "       [11.  ],\n",
              "       [28.  ],\n",
              "       [23.  ],\n",
              "       [23.  ],\n",
              "       [28.5 ],\n",
              "       [48.  ],\n",
              "       [35.  ],\n",
              "       [28.  ],\n",
              "       [28.  ],\n",
              "       [28.  ],\n",
              "       [36.  ],\n",
              "       [21.  ],\n",
              "       [24.  ],\n",
              "       [31.  ],\n",
              "       [70.  ],\n",
              "       [16.  ],\n",
              "       [30.  ],\n",
              "       [19.  ],\n",
              "       [31.  ],\n",
              "       [ 4.  ],\n",
              "       [ 6.  ],\n",
              "       [33.  ],\n",
              "       [23.  ],\n",
              "       [48.  ],\n",
              "       [ 0.67],\n",
              "       [28.  ],\n",
              "       [18.  ],\n",
              "       [34.  ],\n",
              "       [33.  ],\n",
              "       [28.  ],\n",
              "       [41.  ],\n",
              "       [20.  ],\n",
              "       [36.  ],\n",
              "       [16.  ],\n",
              "       [51.  ],\n",
              "       [28.  ],\n",
              "       [30.5 ],\n",
              "       [28.  ],\n",
              "       [32.  ],\n",
              "       [24.  ],\n",
              "       [48.  ],\n",
              "       [57.  ],\n",
              "       [28.  ],\n",
              "       [54.  ],\n",
              "       [18.  ],\n",
              "       [28.  ],\n",
              "       [ 5.  ],\n",
              "       [28.  ],\n",
              "       [43.  ],\n",
              "       [13.  ],\n",
              "       [17.  ],\n",
              "       [29.  ],\n",
              "       [28.  ],\n",
              "       [25.  ],\n",
              "       [25.  ],\n",
              "       [18.  ],\n",
              "       [ 8.  ],\n",
              "       [ 1.  ],\n",
              "       [46.  ],\n",
              "       [28.  ],\n",
              "       [16.  ],\n",
              "       [28.  ],\n",
              "       [28.  ],\n",
              "       [25.  ],\n",
              "       [39.  ],\n",
              "       [49.  ],\n",
              "       [31.  ],\n",
              "       [30.  ],\n",
              "       [30.  ],\n",
              "       [34.  ],\n",
              "       [31.  ],\n",
              "       [11.  ],\n",
              "       [ 0.42],\n",
              "       [27.  ],\n",
              "       [31.  ],\n",
              "       [39.  ],\n",
              "       [18.  ],\n",
              "       [39.  ],\n",
              "       [33.  ],\n",
              "       [26.  ],\n",
              "       [39.  ],\n",
              "       [35.  ],\n",
              "       [ 6.  ],\n",
              "       [30.5 ],\n",
              "       [28.  ],\n",
              "       [23.  ],\n",
              "       [31.  ],\n",
              "       [43.  ],\n",
              "       [10.  ],\n",
              "       [52.  ],\n",
              "       [27.  ],\n",
              "       [38.  ],\n",
              "       [27.  ],\n",
              "       [ 2.  ],\n",
              "       [28.  ],\n",
              "       [28.  ],\n",
              "       [ 1.  ],\n",
              "       [28.  ],\n",
              "       [62.  ],\n",
              "       [15.  ],\n",
              "       [ 0.83],\n",
              "       [28.  ],\n",
              "       [23.  ],\n",
              "       [18.  ],\n",
              "       [39.  ],\n",
              "       [21.  ],\n",
              "       [28.  ],\n",
              "       [32.  ],\n",
              "       [28.  ],\n",
              "       [20.  ],\n",
              "       [16.  ],\n",
              "       [30.  ],\n",
              "       [34.5 ],\n",
              "       [17.  ],\n",
              "       [42.  ],\n",
              "       [28.  ],\n",
              "       [35.  ],\n",
              "       [28.  ],\n",
              "       [28.  ],\n",
              "       [ 4.  ],\n",
              "       [74.  ],\n",
              "       [ 9.  ],\n",
              "       [16.  ],\n",
              "       [44.  ],\n",
              "       [18.  ],\n",
              "       [45.  ],\n",
              "       [51.  ],\n",
              "       [24.  ],\n",
              "       [28.  ],\n",
              "       [41.  ],\n",
              "       [21.  ],\n",
              "       [48.  ],\n",
              "       [28.  ],\n",
              "       [24.  ],\n",
              "       [42.  ],\n",
              "       [27.  ],\n",
              "       [31.  ],\n",
              "       [28.  ],\n",
              "       [ 4.  ],\n",
              "       [26.  ],\n",
              "       [47.  ],\n",
              "       [33.  ],\n",
              "       [47.  ],\n",
              "       [28.  ],\n",
              "       [15.  ],\n",
              "       [20.  ],\n",
              "       [19.  ],\n",
              "       [28.  ],\n",
              "       [56.  ],\n",
              "       [25.  ],\n",
              "       [33.  ],\n",
              "       [22.  ],\n",
              "       [28.  ],\n",
              "       [25.  ],\n",
              "       [39.  ],\n",
              "       [27.  ],\n",
              "       [19.  ],\n",
              "       [28.  ],\n",
              "       [26.  ],\n",
              "       [32.  ]])"
            ]
          },
          "metadata": {},
          "execution_count": 49
        }
      ]
    },
    {
      "cell_type": "code",
      "metadata": {
        "id": "Xhb1zZWH0tj4"
      },
      "source": [
        "train[['Age']] = result"
      ],
      "execution_count": null,
      "outputs": []
    },
    {
      "cell_type": "code",
      "metadata": {
        "id": "D6eVOyyE0w_v",
        "outputId": "6236aa5c-abaf-436c-aba4-112e3265db6f",
        "colab": {
          "base_uri": "https://localhost:8080/"
        }
      },
      "source": [
        "train[['Age', 'Pclass']].isnull().sum()"
      ],
      "execution_count": null,
      "outputs": [
        {
          "output_type": "execute_result",
          "data": {
            "text/plain": [
              "Age       0\n",
              "Pclass    0\n",
              "dtype: int64"
            ]
          },
          "metadata": {},
          "execution_count": 51
        }
      ]
    },
    {
      "cell_type": "code",
      "metadata": {
        "id": "i_xJh7Wd53B3",
        "outputId": "c41cfc28-dc9a-47a7-ead1-90e1110bad2c",
        "colab": {
          "base_uri": "https://localhost:8080/",
          "height": 297
        }
      },
      "source": [
        "train[['Age', 'Pclass']].describe()"
      ],
      "execution_count": null,
      "outputs": [
        {
          "output_type": "execute_result",
          "data": {
            "text/html": [
              "\n",
              "  <div id=\"df-107aecee-207c-4bae-9972-43f8eeef8e49\">\n",
              "    <div class=\"colab-df-container\">\n",
              "      <div>\n",
              "<style scoped>\n",
              "    .dataframe tbody tr th:only-of-type {\n",
              "        vertical-align: middle;\n",
              "    }\n",
              "\n",
              "    .dataframe tbody tr th {\n",
              "        vertical-align: top;\n",
              "    }\n",
              "\n",
              "    .dataframe thead th {\n",
              "        text-align: right;\n",
              "    }\n",
              "</style>\n",
              "<table border=\"1\" class=\"dataframe\">\n",
              "  <thead>\n",
              "    <tr style=\"text-align: right;\">\n",
              "      <th></th>\n",
              "      <th>Age</th>\n",
              "      <th>Pclass</th>\n",
              "    </tr>\n",
              "  </thead>\n",
              "  <tbody>\n",
              "    <tr>\n",
              "      <th>count</th>\n",
              "      <td>891.000000</td>\n",
              "      <td>891.000000</td>\n",
              "    </tr>\n",
              "    <tr>\n",
              "      <th>mean</th>\n",
              "      <td>29.361582</td>\n",
              "      <td>2.308642</td>\n",
              "    </tr>\n",
              "    <tr>\n",
              "      <th>std</th>\n",
              "      <td>13.019697</td>\n",
              "      <td>0.836071</td>\n",
              "    </tr>\n",
              "    <tr>\n",
              "      <th>min</th>\n",
              "      <td>0.420000</td>\n",
              "      <td>1.000000</td>\n",
              "    </tr>\n",
              "    <tr>\n",
              "      <th>25%</th>\n",
              "      <td>22.000000</td>\n",
              "      <td>2.000000</td>\n",
              "    </tr>\n",
              "    <tr>\n",
              "      <th>50%</th>\n",
              "      <td>28.000000</td>\n",
              "      <td>3.000000</td>\n",
              "    </tr>\n",
              "    <tr>\n",
              "      <th>75%</th>\n",
              "      <td>35.000000</td>\n",
              "      <td>3.000000</td>\n",
              "    </tr>\n",
              "    <tr>\n",
              "      <th>max</th>\n",
              "      <td>80.000000</td>\n",
              "      <td>3.000000</td>\n",
              "    </tr>\n",
              "  </tbody>\n",
              "</table>\n",
              "</div>\n",
              "      <button class=\"colab-df-convert\" onclick=\"convertToInteractive('df-107aecee-207c-4bae-9972-43f8eeef8e49')\"\n",
              "              title=\"Convert this dataframe to an interactive table.\"\n",
              "              style=\"display:none;\">\n",
              "        \n",
              "  <svg xmlns=\"http://www.w3.org/2000/svg\" height=\"24px\"viewBox=\"0 0 24 24\"\n",
              "       width=\"24px\">\n",
              "    <path d=\"M0 0h24v24H0V0z\" fill=\"none\"/>\n",
              "    <path d=\"M18.56 5.44l.94 2.06.94-2.06 2.06-.94-2.06-.94-.94-2.06-.94 2.06-2.06.94zm-11 1L8.5 8.5l.94-2.06 2.06-.94-2.06-.94L8.5 2.5l-.94 2.06-2.06.94zm10 10l.94 2.06.94-2.06 2.06-.94-2.06-.94-.94-2.06-.94 2.06-2.06.94z\"/><path d=\"M17.41 7.96l-1.37-1.37c-.4-.4-.92-.59-1.43-.59-.52 0-1.04.2-1.43.59L10.3 9.45l-7.72 7.72c-.78.78-.78 2.05 0 2.83L4 21.41c.39.39.9.59 1.41.59.51 0 1.02-.2 1.41-.59l7.78-7.78 2.81-2.81c.8-.78.8-2.07 0-2.86zM5.41 20L4 18.59l7.72-7.72 1.47 1.35L5.41 20z\"/>\n",
              "  </svg>\n",
              "      </button>\n",
              "      \n",
              "  <style>\n",
              "    .colab-df-container {\n",
              "      display:flex;\n",
              "      flex-wrap:wrap;\n",
              "      gap: 12px;\n",
              "    }\n",
              "\n",
              "    .colab-df-convert {\n",
              "      background-color: #E8F0FE;\n",
              "      border: none;\n",
              "      border-radius: 50%;\n",
              "      cursor: pointer;\n",
              "      display: none;\n",
              "      fill: #1967D2;\n",
              "      height: 32px;\n",
              "      padding: 0 0 0 0;\n",
              "      width: 32px;\n",
              "    }\n",
              "\n",
              "    .colab-df-convert:hover {\n",
              "      background-color: #E2EBFA;\n",
              "      box-shadow: 0px 1px 2px rgba(60, 64, 67, 0.3), 0px 1px 3px 1px rgba(60, 64, 67, 0.15);\n",
              "      fill: #174EA6;\n",
              "    }\n",
              "\n",
              "    [theme=dark] .colab-df-convert {\n",
              "      background-color: #3B4455;\n",
              "      fill: #D2E3FC;\n",
              "    }\n",
              "\n",
              "    [theme=dark] .colab-df-convert:hover {\n",
              "      background-color: #434B5C;\n",
              "      box-shadow: 0px 1px 3px 1px rgba(0, 0, 0, 0.15);\n",
              "      filter: drop-shadow(0px 1px 2px rgba(0, 0, 0, 0.3));\n",
              "      fill: #FFFFFF;\n",
              "    }\n",
              "  </style>\n",
              "\n",
              "      <script>\n",
              "        const buttonEl =\n",
              "          document.querySelector('#df-107aecee-207c-4bae-9972-43f8eeef8e49 button.colab-df-convert');\n",
              "        buttonEl.style.display =\n",
              "          google.colab.kernel.accessAllowed ? 'block' : 'none';\n",
              "\n",
              "        async function convertToInteractive(key) {\n",
              "          const element = document.querySelector('#df-107aecee-207c-4bae-9972-43f8eeef8e49');\n",
              "          const dataTable =\n",
              "            await google.colab.kernel.invokeFunction('convertToInteractive',\n",
              "                                                     [key], {});\n",
              "          if (!dataTable) return;\n",
              "\n",
              "          const docLinkHtml = 'Like what you see? Visit the ' +\n",
              "            '<a target=\"_blank\" href=https://colab.research.google.com/notebooks/data_table.ipynb>data table notebook</a>'\n",
              "            + ' to learn more about interactive tables.';\n",
              "          element.innerHTML = '';\n",
              "          dataTable['output_type'] = 'display_data';\n",
              "          await google.colab.output.renderOutput(dataTable, element);\n",
              "          const docLink = document.createElement('div');\n",
              "          docLink.innerHTML = docLinkHtml;\n",
              "          element.appendChild(docLink);\n",
              "        }\n",
              "      </script>\n",
              "    </div>\n",
              "  </div>\n",
              "  "
            ],
            "text/plain": [
              "              Age      Pclass\n",
              "count  891.000000  891.000000\n",
              "mean    29.361582    2.308642\n",
              "std     13.019697    0.836071\n",
              "min      0.420000    1.000000\n",
              "25%     22.000000    2.000000\n",
              "50%     28.000000    3.000000\n",
              "75%     35.000000    3.000000\n",
              "max     80.000000    3.000000"
            ]
          },
          "metadata": {},
          "execution_count": 52
        }
      ]
    },
    {
      "cell_type": "markdown",
      "metadata": {
        "id": "H-paZSGL05Te"
      },
      "source": [
        "fit_transform()은 fit()과 transform()을 한 번에 해주는 함수 입니다."
      ]
    },
    {
      "cell_type": "code",
      "metadata": {
        "id": "YX5sZoT01ZmA"
      },
      "source": [
        "train = pd.read_csv('https://bit.ly/fc-ml-titanic')"
      ],
      "execution_count": null,
      "outputs": []
    },
    {
      "cell_type": "code",
      "metadata": {
        "id": "7IhAQjG61b_3",
        "outputId": "530b3b59-087c-4624-be75-53fd1d8c8f99",
        "colab": {
          "base_uri": "https://localhost:8080/"
        }
      },
      "source": [
        "train[['Age', 'Pclass']].isnull().sum()"
      ],
      "execution_count": null,
      "outputs": [
        {
          "output_type": "execute_result",
          "data": {
            "text/plain": [
              "Age       177\n",
              "Pclass      0\n",
              "dtype: int64"
            ]
          },
          "metadata": {},
          "execution_count": 54
        }
      ]
    },
    {
      "cell_type": "code",
      "metadata": {
        "id": "nemH060SQWq-"
      },
      "source": [
        "impute = SimpleImputer(strategy='median')"
      ],
      "execution_count": null,
      "outputs": []
    },
    {
      "cell_type": "code",
      "metadata": {
        "id": "DIlZOOYEQiVV"
      },
      "source": [
        "result = impute.fit_transform(train[['Age']])"
      ],
      "execution_count": null,
      "outputs": []
    },
    {
      "cell_type": "code",
      "metadata": {
        "id": "nfwvX-pRQmLB"
      },
      "source": [
        "train[['Age']] = result"
      ],
      "execution_count": null,
      "outputs": []
    },
    {
      "cell_type": "code",
      "metadata": {
        "id": "G4oRju_0QqV5",
        "outputId": "1013d86c-48a1-498b-bcee-ee42fa2ab43d",
        "colab": {
          "base_uri": "https://localhost:8080/"
        }
      },
      "source": [
        "train[['Age', 'Pclass']].isnull().sum()"
      ],
      "execution_count": null,
      "outputs": [
        {
          "output_type": "execute_result",
          "data": {
            "text/plain": [
              "Age       0\n",
              "Pclass    0\n",
              "dtype: int64"
            ]
          },
          "metadata": {},
          "execution_count": 58
        }
      ]
    },
    {
      "cell_type": "code",
      "metadata": {
        "id": "hFNsYsQ76IVJ",
        "outputId": "ed387f69-0bc7-4a89-eec5-a8e66d1e6cb4",
        "colab": {
          "base_uri": "https://localhost:8080/",
          "height": 297
        }
      },
      "source": [
        "train[['Age', 'Pclass']].describe()"
      ],
      "execution_count": null,
      "outputs": [
        {
          "output_type": "execute_result",
          "data": {
            "text/html": [
              "\n",
              "  <div id=\"df-b66bb185-5218-437a-b20f-e413fb7fbb62\">\n",
              "    <div class=\"colab-df-container\">\n",
              "      <div>\n",
              "<style scoped>\n",
              "    .dataframe tbody tr th:only-of-type {\n",
              "        vertical-align: middle;\n",
              "    }\n",
              "\n",
              "    .dataframe tbody tr th {\n",
              "        vertical-align: top;\n",
              "    }\n",
              "\n",
              "    .dataframe thead th {\n",
              "        text-align: right;\n",
              "    }\n",
              "</style>\n",
              "<table border=\"1\" class=\"dataframe\">\n",
              "  <thead>\n",
              "    <tr style=\"text-align: right;\">\n",
              "      <th></th>\n",
              "      <th>Age</th>\n",
              "      <th>Pclass</th>\n",
              "    </tr>\n",
              "  </thead>\n",
              "  <tbody>\n",
              "    <tr>\n",
              "      <th>count</th>\n",
              "      <td>891.000000</td>\n",
              "      <td>891.000000</td>\n",
              "    </tr>\n",
              "    <tr>\n",
              "      <th>mean</th>\n",
              "      <td>29.361582</td>\n",
              "      <td>2.308642</td>\n",
              "    </tr>\n",
              "    <tr>\n",
              "      <th>std</th>\n",
              "      <td>13.019697</td>\n",
              "      <td>0.836071</td>\n",
              "    </tr>\n",
              "    <tr>\n",
              "      <th>min</th>\n",
              "      <td>0.420000</td>\n",
              "      <td>1.000000</td>\n",
              "    </tr>\n",
              "    <tr>\n",
              "      <th>25%</th>\n",
              "      <td>22.000000</td>\n",
              "      <td>2.000000</td>\n",
              "    </tr>\n",
              "    <tr>\n",
              "      <th>50%</th>\n",
              "      <td>28.000000</td>\n",
              "      <td>3.000000</td>\n",
              "    </tr>\n",
              "    <tr>\n",
              "      <th>75%</th>\n",
              "      <td>35.000000</td>\n",
              "      <td>3.000000</td>\n",
              "    </tr>\n",
              "    <tr>\n",
              "      <th>max</th>\n",
              "      <td>80.000000</td>\n",
              "      <td>3.000000</td>\n",
              "    </tr>\n",
              "  </tbody>\n",
              "</table>\n",
              "</div>\n",
              "      <button class=\"colab-df-convert\" onclick=\"convertToInteractive('df-b66bb185-5218-437a-b20f-e413fb7fbb62')\"\n",
              "              title=\"Convert this dataframe to an interactive table.\"\n",
              "              style=\"display:none;\">\n",
              "        \n",
              "  <svg xmlns=\"http://www.w3.org/2000/svg\" height=\"24px\"viewBox=\"0 0 24 24\"\n",
              "       width=\"24px\">\n",
              "    <path d=\"M0 0h24v24H0V0z\" fill=\"none\"/>\n",
              "    <path d=\"M18.56 5.44l.94 2.06.94-2.06 2.06-.94-2.06-.94-.94-2.06-.94 2.06-2.06.94zm-11 1L8.5 8.5l.94-2.06 2.06-.94-2.06-.94L8.5 2.5l-.94 2.06-2.06.94zm10 10l.94 2.06.94-2.06 2.06-.94-2.06-.94-.94-2.06-.94 2.06-2.06.94z\"/><path d=\"M17.41 7.96l-1.37-1.37c-.4-.4-.92-.59-1.43-.59-.52 0-1.04.2-1.43.59L10.3 9.45l-7.72 7.72c-.78.78-.78 2.05 0 2.83L4 21.41c.39.39.9.59 1.41.59.51 0 1.02-.2 1.41-.59l7.78-7.78 2.81-2.81c.8-.78.8-2.07 0-2.86zM5.41 20L4 18.59l7.72-7.72 1.47 1.35L5.41 20z\"/>\n",
              "  </svg>\n",
              "      </button>\n",
              "      \n",
              "  <style>\n",
              "    .colab-df-container {\n",
              "      display:flex;\n",
              "      flex-wrap:wrap;\n",
              "      gap: 12px;\n",
              "    }\n",
              "\n",
              "    .colab-df-convert {\n",
              "      background-color: #E8F0FE;\n",
              "      border: none;\n",
              "      border-radius: 50%;\n",
              "      cursor: pointer;\n",
              "      display: none;\n",
              "      fill: #1967D2;\n",
              "      height: 32px;\n",
              "      padding: 0 0 0 0;\n",
              "      width: 32px;\n",
              "    }\n",
              "\n",
              "    .colab-df-convert:hover {\n",
              "      background-color: #E2EBFA;\n",
              "      box-shadow: 0px 1px 2px rgba(60, 64, 67, 0.3), 0px 1px 3px 1px rgba(60, 64, 67, 0.15);\n",
              "      fill: #174EA6;\n",
              "    }\n",
              "\n",
              "    [theme=dark] .colab-df-convert {\n",
              "      background-color: #3B4455;\n",
              "      fill: #D2E3FC;\n",
              "    }\n",
              "\n",
              "    [theme=dark] .colab-df-convert:hover {\n",
              "      background-color: #434B5C;\n",
              "      box-shadow: 0px 1px 3px 1px rgba(0, 0, 0, 0.15);\n",
              "      filter: drop-shadow(0px 1px 2px rgba(0, 0, 0, 0.3));\n",
              "      fill: #FFFFFF;\n",
              "    }\n",
              "  </style>\n",
              "\n",
              "      <script>\n",
              "        const buttonEl =\n",
              "          document.querySelector('#df-b66bb185-5218-437a-b20f-e413fb7fbb62 button.colab-df-convert');\n",
              "        buttonEl.style.display =\n",
              "          google.colab.kernel.accessAllowed ? 'block' : 'none';\n",
              "\n",
              "        async function convertToInteractive(key) {\n",
              "          const element = document.querySelector('#df-b66bb185-5218-437a-b20f-e413fb7fbb62');\n",
              "          const dataTable =\n",
              "            await google.colab.kernel.invokeFunction('convertToInteractive',\n",
              "                                                     [key], {});\n",
              "          if (!dataTable) return;\n",
              "\n",
              "          const docLinkHtml = 'Like what you see? Visit the ' +\n",
              "            '<a target=\"_blank\" href=https://colab.research.google.com/notebooks/data_table.ipynb>data table notebook</a>'\n",
              "            + ' to learn more about interactive tables.';\n",
              "          element.innerHTML = '';\n",
              "          dataTable['output_type'] = 'display_data';\n",
              "          await google.colab.output.renderOutput(dataTable, element);\n",
              "          const docLink = document.createElement('div');\n",
              "          docLink.innerHTML = docLinkHtml;\n",
              "          element.appendChild(docLink);\n",
              "        }\n",
              "      </script>\n",
              "    </div>\n",
              "  </div>\n",
              "  "
            ],
            "text/plain": [
              "              Age      Pclass\n",
              "count  891.000000  891.000000\n",
              "mean    29.361582    2.308642\n",
              "std     13.019697    0.836071\n",
              "min      0.420000    1.000000\n",
              "25%     22.000000    2.000000\n",
              "50%     28.000000    3.000000\n",
              "75%     35.000000    3.000000\n",
              "max     80.000000    3.000000"
            ]
          },
          "metadata": {},
          "execution_count": 59
        }
      ]
    },
    {
      "cell_type": "markdown",
      "metadata": {
        "id": "CJCiPKWEQtTI"
      },
      "source": [
        "### 2.  (Categorical Column) 데이터에 대한 결측치 처리"
      ]
    },
    {
      "cell_type": "code",
      "metadata": {
        "id": "B-2CzV93Ry96"
      },
      "source": [
        "train = pd.read_csv('https://bit.ly/fc-ml-titanic')"
      ],
      "execution_count": null,
      "outputs": []
    },
    {
      "cell_type": "markdown",
      "metadata": {
        "id": "sGpADfvYSVL5"
      },
      "source": [
        "1개의 column을 처리하는 경우"
      ]
    },
    {
      "cell_type": "code",
      "metadata": {
        "id": "1OSPpu8_SNsB",
        "outputId": "2bcbb624-a3ec-45ef-ee9b-ba5829d54f55",
        "colab": {
          "base_uri": "https://localhost:8080/"
        }
      },
      "source": [
        "train['Embarked'].fillna('S')"
      ],
      "execution_count": null,
      "outputs": [
        {
          "output_type": "execute_result",
          "data": {
            "text/plain": [
              "0      S\n",
              "1      C\n",
              "2      S\n",
              "3      S\n",
              "4      S\n",
              "      ..\n",
              "886    S\n",
              "887    S\n",
              "888    S\n",
              "889    C\n",
              "890    Q\n",
              "Name: Embarked, Length: 891, dtype: object"
            ]
          },
          "metadata": {},
          "execution_count": 61
        }
      ]
    },
    {
      "cell_type": "markdown",
      "metadata": {
        "id": "NH1tGBFwSP6o"
      },
      "source": [
        "Imputer를 사용하는 경우 : 2개 이상의 column을 처리할 때"
      ]
    },
    {
      "cell_type": "code",
      "metadata": {
        "id": "oiMj03qnRKQZ"
      },
      "source": [
        "imputer = SimpleImputer(strategy='most_frequent')"
      ],
      "execution_count": null,
      "outputs": []
    },
    {
      "cell_type": "code",
      "metadata": {
        "id": "INx9rXkjRWSe"
      },
      "source": [
        "result = imputer.fit_transform(train[['Embarked', 'Cabin']])"
      ],
      "execution_count": null,
      "outputs": []
    },
    {
      "cell_type": "code",
      "metadata": {
        "id": "1wzK9n8hnPE4"
      },
      "source": [
        "train[['Embarked', 'Cabin']] = result"
      ],
      "execution_count": null,
      "outputs": []
    },
    {
      "cell_type": "code",
      "metadata": {
        "id": "eWrCCpXP6vRh",
        "outputId": "8ed33741-bfe3-46c3-8f4e-73fc7f620e92",
        "colab": {
          "base_uri": "https://localhost:8080/"
        }
      },
      "source": [
        "train[['Embarked', 'Cabin']].isnull().sum()"
      ],
      "execution_count": null,
      "outputs": [
        {
          "output_type": "execute_result",
          "data": {
            "text/plain": [
              "Embarked    0\n",
              "Cabin       0\n",
              "dtype: int64"
            ]
          },
          "metadata": {},
          "execution_count": 68
        }
      ]
    },
    {
      "cell_type": "markdown",
      "metadata": {
        "id": "i5wuSMlSnPMi"
      },
      "source": [
        "## Label Encoding : 문자(categorical)를 수치(numerical)로 변환"
      ]
    },
    {
      "cell_type": "markdown",
      "metadata": {
        "id": "_K-zLb8nnPXF"
      },
      "source": [
        "학습을 위해서 모든 문자로된 **데이터는 수치로 변환**하여야 합니다."
      ]
    },
    {
      "cell_type": "code",
      "metadata": {
        "id": "epqQ3b99n9Qn",
        "outputId": "0d167c85-c057-4cac-b75c-e50ef2d890f5",
        "colab": {
          "base_uri": "https://localhost:8080/"
        }
      },
      "source": [
        "train.info()"
      ],
      "execution_count": null,
      "outputs": [
        {
          "output_type": "stream",
          "name": "stdout",
          "text": [
            "<class 'pandas.core.frame.DataFrame'>\n",
            "RangeIndex: 891 entries, 0 to 890\n",
            "Data columns (total 12 columns):\n",
            " #   Column       Non-Null Count  Dtype  \n",
            "---  ------       --------------  -----  \n",
            " 0   PassengerId  891 non-null    int64  \n",
            " 1   Survived     891 non-null    int64  \n",
            " 2   Pclass       891 non-null    int64  \n",
            " 3   Name         891 non-null    object \n",
            " 4   Sex          891 non-null    object \n",
            " 5   Age          714 non-null    float64\n",
            " 6   SibSp        891 non-null    int64  \n",
            " 7   Parch        891 non-null    int64  \n",
            " 8   Ticket       891 non-null    object \n",
            " 9   Fare         891 non-null    float64\n",
            " 10  Cabin        891 non-null    object \n",
            " 11  Embarked     891 non-null    object \n",
            "dtypes: float64(2), int64(5), object(5)\n",
            "memory usage: 83.7+ KB\n"
          ]
        }
      ]
    },
    {
      "cell_type": "code",
      "metadata": {
        "id": "ZlnzTy32oIcM"
      },
      "source": [
        "def convert(data):\n",
        "  if data == 'male':\n",
        "    return 1\n",
        "  elif data == 'female':\n",
        "    return 0"
      ],
      "execution_count": null,
      "outputs": []
    },
    {
      "cell_type": "code",
      "metadata": {
        "id": "AnMUua47BGMZ",
        "outputId": "34a3a94a-41dd-4f27-8f45-754b0758ec54",
        "colab": {
          "base_uri": "https://localhost:8080/"
        }
      },
      "source": [
        "train['Sex'].value_counts()"
      ],
      "execution_count": null,
      "outputs": [
        {
          "output_type": "execute_result",
          "data": {
            "text/plain": [
              "male      577\n",
              "female    314\n",
              "Name: Sex, dtype: int64"
            ]
          },
          "metadata": {},
          "execution_count": 71
        }
      ]
    },
    {
      "cell_type": "code",
      "metadata": {
        "id": "5z__wjzvn--F",
        "outputId": "73d3363d-0765-41e8-e321-7b584cd85018",
        "colab": {
          "base_uri": "https://localhost:8080/"
        }
      },
      "source": [
        "train['Sex'].apply(convert)"
      ],
      "execution_count": null,
      "outputs": [
        {
          "output_type": "execute_result",
          "data": {
            "text/plain": [
              "0      1\n",
              "1      0\n",
              "2      0\n",
              "3      0\n",
              "4      1\n",
              "      ..\n",
              "886    1\n",
              "887    0\n",
              "888    0\n",
              "889    1\n",
              "890    1\n",
              "Name: Sex, Length: 891, dtype: int64"
            ]
          },
          "metadata": {},
          "execution_count": 72
        }
      ]
    },
    {
      "cell_type": "code",
      "metadata": {
        "id": "nAWX0vDZoDrk"
      },
      "source": [
        "from sklearn.preprocessing import LabelEncoder"
      ],
      "execution_count": null,
      "outputs": []
    },
    {
      "cell_type": "code",
      "metadata": {
        "id": "T3zSNcjeoZSB"
      },
      "source": [
        "le = LabelEncoder()"
      ],
      "execution_count": null,
      "outputs": []
    },
    {
      "cell_type": "code",
      "metadata": {
        "id": "wgfjeuTsoboo"
      },
      "source": [
        "train['Sex_num'] = le.fit_transform(train['Sex'])"
      ],
      "execution_count": null,
      "outputs": []
    },
    {
      "cell_type": "code",
      "metadata": {
        "id": "ktbcl24bBcRA",
        "outputId": "22c2376d-5800-4e4c-c479-c6f06f702408",
        "colab": {
          "base_uri": "https://localhost:8080/"
        }
      },
      "source": [
        "train['Sex_num'].value_counts()"
      ],
      "execution_count": null,
      "outputs": [
        {
          "output_type": "execute_result",
          "data": {
            "text/plain": [
              "1    577\n",
              "0    314\n",
              "Name: Sex_num, dtype: int64"
            ]
          },
          "metadata": {},
          "execution_count": 79
        }
      ]
    },
    {
      "cell_type": "code",
      "metadata": {
        "id": "PUgKXpkDpClf",
        "outputId": "005059e7-87ff-43b7-909e-a9ca27a0ca1e",
        "colab": {
          "base_uri": "https://localhost:8080/"
        }
      },
      "source": [
        "le.classes_"
      ],
      "execution_count": null,
      "outputs": [
        {
          "output_type": "execute_result",
          "data": {
            "text/plain": [
              "array(['female', 'male'], dtype=object)"
            ]
          },
          "metadata": {},
          "execution_count": 80
        }
      ]
    },
    {
      "cell_type": "code",
      "metadata": {
        "id": "XfyAsbd_pWVu",
        "outputId": "0ee3a10e-effa-453e-9727-8551a80ef9ec",
        "colab": {
          "base_uri": "https://localhost:8080/"
        }
      },
      "source": [
        "le.inverse_transform([0,1,1,0,0,1,1])"
      ],
      "execution_count": null,
      "outputs": [
        {
          "output_type": "execute_result",
          "data": {
            "text/plain": [
              "array(['female', 'male', 'male', 'female', 'female', 'male', 'male'],\n",
              "      dtype=object)"
            ]
          },
          "metadata": {},
          "execution_count": 81
        }
      ]
    },
    {
      "cell_type": "markdown",
      "metadata": {
        "id": "_s2W4nJgrPsL"
      },
      "source": [
        "NaN 값이 포함되어 있다면, `LabelEncoder`가 정상 동작하지 않습니다."
      ]
    },
    {
      "cell_type": "code",
      "metadata": {
        "id": "aMzvi1lppihM"
      },
      "source": [
        "train['Embarked'] = train['Embarked'].fillna('S')"
      ],
      "execution_count": null,
      "outputs": []
    },
    {
      "cell_type": "code",
      "metadata": {
        "id": "pWKb0q0Pq4aj",
        "outputId": "0663ffa8-a682-45ef-cd44-57488cc079d3",
        "colab": {
          "base_uri": "https://localhost:8080/"
        }
      },
      "source": [
        "le.fit_transform(train['Embarked'])"
      ],
      "execution_count": null,
      "outputs": [
        {
          "output_type": "execute_result",
          "data": {
            "text/plain": [
              "array([2, 0, 2, 2, 2, 1, 2, 2, 2, 0, 2, 2, 2, 2, 2, 2, 1, 2, 2, 0, 2, 2,\n",
              "       1, 2, 2, 2, 0, 2, 1, 2, 0, 0, 1, 2, 0, 2, 0, 2, 2, 0, 2, 2, 0, 0,\n",
              "       1, 2, 1, 1, 0, 2, 2, 2, 0, 2, 0, 2, 2, 0, 2, 2, 0, 2, 2, 2, 0, 0,\n",
              "       2, 2, 2, 2, 2, 2, 2, 0, 2, 2, 2, 2, 2, 2, 2, 2, 1, 2, 2, 2, 2, 2,\n",
              "       2, 2, 2, 2, 2, 2, 2, 2, 0, 0, 2, 2, 2, 2, 2, 2, 2, 2, 2, 2, 2, 1,\n",
              "       2, 0, 2, 2, 0, 2, 1, 2, 0, 2, 2, 2, 0, 2, 2, 0, 1, 2, 0, 2, 0, 2,\n",
              "       2, 2, 2, 0, 2, 2, 2, 0, 0, 2, 2, 1, 2, 2, 2, 2, 2, 2, 2, 2, 2, 2,\n",
              "       2, 0, 1, 2, 2, 2, 2, 2, 2, 2, 2, 2, 2, 2, 2, 2, 2, 1, 2, 2, 0, 2,\n",
              "       2, 0, 2, 2, 2, 0, 2, 2, 2, 2, 1, 2, 1, 2, 2, 2, 2, 2, 0, 0, 1, 2,\n",
              "       1, 2, 2, 2, 2, 0, 2, 2, 2, 0, 1, 0, 2, 2, 2, 2, 1, 0, 2, 2, 0, 2,\n",
              "       2, 2, 2, 2, 2, 2, 2, 2, 2, 2, 2, 2, 2, 2, 2, 2, 2, 2, 2, 2, 0, 1,\n",
              "       2, 2, 0, 1, 2, 2, 2, 2, 2, 2, 2, 2, 2, 0, 0, 2, 0, 2, 1, 2, 2, 2,\n",
              "       1, 2, 2, 2, 2, 2, 2, 2, 2, 0, 1, 2, 2, 2, 1, 2, 1, 2, 2, 2, 2, 0,\n",
              "       2, 2, 2, 1, 2, 0, 0, 2, 2, 0, 0, 2, 2, 0, 1, 1, 2, 1, 2, 2, 0, 0,\n",
              "       0, 0, 0, 0, 2, 2, 2, 2, 2, 2, 2, 0, 2, 2, 1, 2, 2, 0, 2, 2, 2, 0,\n",
              "       1, 2, 2, 2, 2, 2, 2, 0, 2, 2, 2, 2, 2, 2, 2, 2, 2, 2, 2, 2, 2, 2,\n",
              "       0, 2, 0, 2, 2, 2, 1, 1, 2, 0, 0, 2, 1, 2, 0, 0, 1, 0, 0, 2, 2, 0,\n",
              "       2, 0, 2, 0, 0, 2, 0, 0, 2, 2, 2, 2, 2, 2, 1, 0, 2, 2, 2, 0, 2, 2,\n",
              "       2, 2, 2, 2, 2, 2, 2, 2, 2, 2, 2, 2, 2, 2, 2, 1, 1, 2, 2, 2, 2, 2,\n",
              "       2, 2, 0, 1, 2, 2, 2, 2, 2, 2, 1, 2, 2, 2, 2, 2, 2, 2, 2, 2, 2, 2,\n",
              "       2, 2, 2, 2, 2, 2, 2, 2, 0, 2, 2, 2, 0, 0, 2, 0, 2, 2, 2, 1, 2, 2,\n",
              "       2, 2, 2, 2, 2, 2, 1, 0, 2, 2, 2, 0, 2, 2, 2, 2, 2, 2, 2, 2, 2, 2,\n",
              "       0, 2, 2, 0, 2, 2, 2, 2, 2, 0, 2, 0, 0, 2, 2, 2, 2, 1, 1, 2, 2, 0,\n",
              "       2, 2, 2, 2, 1, 2, 2, 0, 2, 2, 2, 1, 2, 2, 2, 2, 0, 0, 0, 1, 2, 2,\n",
              "       2, 2, 2, 0, 0, 0, 2, 2, 2, 0, 2, 0, 2, 2, 2, 2, 0, 2, 2, 0, 2, 2,\n",
              "       0, 2, 1, 0, 2, 2, 0, 0, 2, 2, 1, 2, 2, 2, 2, 2, 2, 2, 0, 2, 2, 2,\n",
              "       2, 1, 2, 2, 2, 2, 0, 2, 2, 0, 2, 0, 0, 2, 2, 0, 2, 2, 2, 0, 2, 1,\n",
              "       2, 2, 2, 2, 0, 0, 2, 2, 2, 2, 0, 2, 2, 2, 0, 2, 2, 2, 1, 1, 2, 2,\n",
              "       2, 2, 2, 2, 0, 2, 0, 2, 2, 2, 1, 2, 2, 1, 2, 2, 0, 2, 2, 2, 2, 2,\n",
              "       2, 2, 2, 0, 2, 2, 0, 0, 2, 0, 2, 2, 2, 2, 2, 1, 1, 2, 2, 1, 2, 0,\n",
              "       2, 0, 2, 2, 2, 2, 2, 2, 2, 2, 2, 2, 2, 2, 2, 2, 2, 2, 2, 0, 1, 0,\n",
              "       2, 2, 2, 0, 2, 2, 2, 2, 2, 0, 2, 0, 2, 2, 2, 1, 0, 2, 0, 2, 0, 1,\n",
              "       2, 2, 2, 2, 2, 0, 0, 2, 2, 2, 2, 2, 0, 2, 1, 2, 2, 2, 2, 2, 2, 2,\n",
              "       2, 1, 2, 2, 2, 0, 2, 2, 2, 2, 2, 0, 2, 2, 2, 2, 0, 2, 2, 2, 2, 2,\n",
              "       2, 1, 2, 2, 2, 2, 2, 2, 2, 2, 2, 2, 2, 2, 0, 2, 2, 2, 0, 1, 1, 2,\n",
              "       2, 2, 2, 0, 2, 2, 1, 2, 1, 2, 0, 2, 2, 2, 2, 2, 2, 1, 2, 0, 1, 2,\n",
              "       2, 0, 2, 2, 2, 2, 0, 2, 2, 2, 2, 0, 2, 2, 2, 2, 2, 2, 2, 2, 2, 2,\n",
              "       2, 2, 2, 0, 2, 2, 2, 2, 2, 2, 2, 1, 2, 0, 1, 2, 0, 2, 0, 2, 2, 0,\n",
              "       2, 2, 2, 0, 2, 2, 0, 0, 2, 2, 2, 0, 2, 0, 2, 2, 0, 2, 2, 2, 2, 2,\n",
              "       0, 0, 2, 2, 2, 2, 2, 2, 0, 2, 2, 2, 2, 2, 2, 2, 0, 0, 2, 2, 2, 0,\n",
              "       2, 2, 2, 2, 2, 1, 2, 2, 2, 0, 1])"
            ]
          },
          "metadata": {},
          "execution_count": 89
        }
      ]
    },
    {
      "cell_type": "markdown",
      "metadata": {
        "id": "IQfLuikqrfw_"
      },
      "source": [
        "## 원 핫 인코딩 (One Hot Encoding)"
      ]
    },
    {
      "cell_type": "code",
      "metadata": {
        "id": "_My5vfT3rh3U"
      },
      "source": [
        "train = pd.read_csv('https://bit.ly/fc-ml-titanic')"
      ],
      "execution_count": null,
      "outputs": []
    },
    {
      "cell_type": "code",
      "metadata": {
        "id": "8efamaLQrs8A",
        "outputId": "2b3bc15f-e3ba-4aa9-f9a5-11c468f84f56",
        "colab": {
          "base_uri": "https://localhost:8080/",
          "height": 204
        }
      },
      "source": [
        "train.head()"
      ],
      "execution_count": null,
      "outputs": [
        {
          "output_type": "execute_result",
          "data": {
            "text/html": [
              "\n",
              "  <div id=\"df-96567ae8-a29e-49d1-afec-1a2d8d30f5f4\">\n",
              "    <div class=\"colab-df-container\">\n",
              "      <div>\n",
              "<style scoped>\n",
              "    .dataframe tbody tr th:only-of-type {\n",
              "        vertical-align: middle;\n",
              "    }\n",
              "\n",
              "    .dataframe tbody tr th {\n",
              "        vertical-align: top;\n",
              "    }\n",
              "\n",
              "    .dataframe thead th {\n",
              "        text-align: right;\n",
              "    }\n",
              "</style>\n",
              "<table border=\"1\" class=\"dataframe\">\n",
              "  <thead>\n",
              "    <tr style=\"text-align: right;\">\n",
              "      <th></th>\n",
              "      <th>PassengerId</th>\n",
              "      <th>Survived</th>\n",
              "      <th>Pclass</th>\n",
              "      <th>Name</th>\n",
              "      <th>Sex</th>\n",
              "      <th>Age</th>\n",
              "      <th>SibSp</th>\n",
              "      <th>Parch</th>\n",
              "      <th>Ticket</th>\n",
              "      <th>Fare</th>\n",
              "      <th>Cabin</th>\n",
              "      <th>Embarked</th>\n",
              "    </tr>\n",
              "  </thead>\n",
              "  <tbody>\n",
              "    <tr>\n",
              "      <th>0</th>\n",
              "      <td>1</td>\n",
              "      <td>0</td>\n",
              "      <td>3</td>\n",
              "      <td>Braund, Mr. Owen Harris</td>\n",
              "      <td>male</td>\n",
              "      <td>22.0</td>\n",
              "      <td>1</td>\n",
              "      <td>0</td>\n",
              "      <td>A/5 21171</td>\n",
              "      <td>7.2500</td>\n",
              "      <td>NaN</td>\n",
              "      <td>S</td>\n",
              "    </tr>\n",
              "    <tr>\n",
              "      <th>1</th>\n",
              "      <td>2</td>\n",
              "      <td>1</td>\n",
              "      <td>1</td>\n",
              "      <td>Cumings, Mrs. John Bradley (Florence Briggs Th...</td>\n",
              "      <td>female</td>\n",
              "      <td>38.0</td>\n",
              "      <td>1</td>\n",
              "      <td>0</td>\n",
              "      <td>PC 17599</td>\n",
              "      <td>71.2833</td>\n",
              "      <td>C85</td>\n",
              "      <td>C</td>\n",
              "    </tr>\n",
              "    <tr>\n",
              "      <th>2</th>\n",
              "      <td>3</td>\n",
              "      <td>1</td>\n",
              "      <td>3</td>\n",
              "      <td>Heikkinen, Miss. Laina</td>\n",
              "      <td>female</td>\n",
              "      <td>26.0</td>\n",
              "      <td>0</td>\n",
              "      <td>0</td>\n",
              "      <td>STON/O2. 3101282</td>\n",
              "      <td>7.9250</td>\n",
              "      <td>NaN</td>\n",
              "      <td>S</td>\n",
              "    </tr>\n",
              "    <tr>\n",
              "      <th>3</th>\n",
              "      <td>4</td>\n",
              "      <td>1</td>\n",
              "      <td>1</td>\n",
              "      <td>Futrelle, Mrs. Jacques Heath (Lily May Peel)</td>\n",
              "      <td>female</td>\n",
              "      <td>35.0</td>\n",
              "      <td>1</td>\n",
              "      <td>0</td>\n",
              "      <td>113803</td>\n",
              "      <td>53.1000</td>\n",
              "      <td>C123</td>\n",
              "      <td>S</td>\n",
              "    </tr>\n",
              "    <tr>\n",
              "      <th>4</th>\n",
              "      <td>5</td>\n",
              "      <td>0</td>\n",
              "      <td>3</td>\n",
              "      <td>Allen, Mr. William Henry</td>\n",
              "      <td>male</td>\n",
              "      <td>35.0</td>\n",
              "      <td>0</td>\n",
              "      <td>0</td>\n",
              "      <td>373450</td>\n",
              "      <td>8.0500</td>\n",
              "      <td>NaN</td>\n",
              "      <td>S</td>\n",
              "    </tr>\n",
              "  </tbody>\n",
              "</table>\n",
              "</div>\n",
              "      <button class=\"colab-df-convert\" onclick=\"convertToInteractive('df-96567ae8-a29e-49d1-afec-1a2d8d30f5f4')\"\n",
              "              title=\"Convert this dataframe to an interactive table.\"\n",
              "              style=\"display:none;\">\n",
              "        \n",
              "  <svg xmlns=\"http://www.w3.org/2000/svg\" height=\"24px\"viewBox=\"0 0 24 24\"\n",
              "       width=\"24px\">\n",
              "    <path d=\"M0 0h24v24H0V0z\" fill=\"none\"/>\n",
              "    <path d=\"M18.56 5.44l.94 2.06.94-2.06 2.06-.94-2.06-.94-.94-2.06-.94 2.06-2.06.94zm-11 1L8.5 8.5l.94-2.06 2.06-.94-2.06-.94L8.5 2.5l-.94 2.06-2.06.94zm10 10l.94 2.06.94-2.06 2.06-.94-2.06-.94-.94-2.06-.94 2.06-2.06.94z\"/><path d=\"M17.41 7.96l-1.37-1.37c-.4-.4-.92-.59-1.43-.59-.52 0-1.04.2-1.43.59L10.3 9.45l-7.72 7.72c-.78.78-.78 2.05 0 2.83L4 21.41c.39.39.9.59 1.41.59.51 0 1.02-.2 1.41-.59l7.78-7.78 2.81-2.81c.8-.78.8-2.07 0-2.86zM5.41 20L4 18.59l7.72-7.72 1.47 1.35L5.41 20z\"/>\n",
              "  </svg>\n",
              "      </button>\n",
              "      \n",
              "  <style>\n",
              "    .colab-df-container {\n",
              "      display:flex;\n",
              "      flex-wrap:wrap;\n",
              "      gap: 12px;\n",
              "    }\n",
              "\n",
              "    .colab-df-convert {\n",
              "      background-color: #E8F0FE;\n",
              "      border: none;\n",
              "      border-radius: 50%;\n",
              "      cursor: pointer;\n",
              "      display: none;\n",
              "      fill: #1967D2;\n",
              "      height: 32px;\n",
              "      padding: 0 0 0 0;\n",
              "      width: 32px;\n",
              "    }\n",
              "\n",
              "    .colab-df-convert:hover {\n",
              "      background-color: #E2EBFA;\n",
              "      box-shadow: 0px 1px 2px rgba(60, 64, 67, 0.3), 0px 1px 3px 1px rgba(60, 64, 67, 0.15);\n",
              "      fill: #174EA6;\n",
              "    }\n",
              "\n",
              "    [theme=dark] .colab-df-convert {\n",
              "      background-color: #3B4455;\n",
              "      fill: #D2E3FC;\n",
              "    }\n",
              "\n",
              "    [theme=dark] .colab-df-convert:hover {\n",
              "      background-color: #434B5C;\n",
              "      box-shadow: 0px 1px 3px 1px rgba(0, 0, 0, 0.15);\n",
              "      filter: drop-shadow(0px 1px 2px rgba(0, 0, 0, 0.3));\n",
              "      fill: #FFFFFF;\n",
              "    }\n",
              "  </style>\n",
              "\n",
              "      <script>\n",
              "        const buttonEl =\n",
              "          document.querySelector('#df-96567ae8-a29e-49d1-afec-1a2d8d30f5f4 button.colab-df-convert');\n",
              "        buttonEl.style.display =\n",
              "          google.colab.kernel.accessAllowed ? 'block' : 'none';\n",
              "\n",
              "        async function convertToInteractive(key) {\n",
              "          const element = document.querySelector('#df-96567ae8-a29e-49d1-afec-1a2d8d30f5f4');\n",
              "          const dataTable =\n",
              "            await google.colab.kernel.invokeFunction('convertToInteractive',\n",
              "                                                     [key], {});\n",
              "          if (!dataTable) return;\n",
              "\n",
              "          const docLinkHtml = 'Like what you see? Visit the ' +\n",
              "            '<a target=\"_blank\" href=https://colab.research.google.com/notebooks/data_table.ipynb>data table notebook</a>'\n",
              "            + ' to learn more about interactive tables.';\n",
              "          element.innerHTML = '';\n",
              "          dataTable['output_type'] = 'display_data';\n",
              "          await google.colab.output.renderOutput(dataTable, element);\n",
              "          const docLink = document.createElement('div');\n",
              "          docLink.innerHTML = docLinkHtml;\n",
              "          element.appendChild(docLink);\n",
              "        }\n",
              "      </script>\n",
              "    </div>\n",
              "  </div>\n",
              "  "
            ],
            "text/plain": [
              "   PassengerId  Survived  Pclass  ...     Fare Cabin  Embarked\n",
              "0            1         0       3  ...   7.2500   NaN         S\n",
              "1            2         1       1  ...  71.2833   C85         C\n",
              "2            3         1       3  ...   7.9250   NaN         S\n",
              "3            4         1       1  ...  53.1000  C123         S\n",
              "4            5         0       3  ...   8.0500   NaN         S\n",
              "\n",
              "[5 rows x 12 columns]"
            ]
          },
          "metadata": {},
          "execution_count": 91
        }
      ]
    },
    {
      "cell_type": "markdown",
      "metadata": {
        "id": "2EK70txMryLt"
      },
      "source": [
        "`Embarked`를 살펴봅시다"
      ]
    },
    {
      "cell_type": "code",
      "metadata": {
        "id": "bd_c0Aqfr3MC",
        "outputId": "5a20434c-6aa5-4f8f-fcaa-0e7ff87a127f",
        "colab": {
          "base_uri": "https://localhost:8080/"
        }
      },
      "source": [
        "train['Embarked'].value_counts()"
      ],
      "execution_count": null,
      "outputs": [
        {
          "output_type": "execute_result",
          "data": {
            "text/plain": [
              "S    644\n",
              "C    168\n",
              "Q     77\n",
              "Name: Embarked, dtype: int64"
            ]
          },
          "metadata": {},
          "execution_count": 92
        }
      ]
    },
    {
      "cell_type": "code",
      "metadata": {
        "id": "fiGpbVuir4vM"
      },
      "source": [
        "train['Embarked'] = train['Embarked'].fillna('S')"
      ],
      "execution_count": null,
      "outputs": []
    },
    {
      "cell_type": "code",
      "metadata": {
        "id": "NSaVkLeICSVf",
        "outputId": "b7a06517-95f7-4a2c-bed7-ec5be650281c",
        "colab": {
          "base_uri": "https://localhost:8080/"
        }
      },
      "source": [
        "train['Embarked'].value_counts()"
      ],
      "execution_count": null,
      "outputs": [
        {
          "output_type": "execute_result",
          "data": {
            "text/plain": [
              "S    646\n",
              "C    168\n",
              "Q     77\n",
              "Name: Embarked, dtype: int64"
            ]
          },
          "metadata": {},
          "execution_count": 94
        }
      ]
    },
    {
      "cell_type": "code",
      "metadata": {
        "id": "ZEitD4i5sE5u"
      },
      "source": [
        "train['Embarked_num'] = LabelEncoder().fit_transform(train['Embarked'])"
      ],
      "execution_count": null,
      "outputs": []
    },
    {
      "cell_type": "code",
      "metadata": {
        "id": "n5UsLwbysKB6",
        "outputId": "1dab2f47-0a43-44e3-fdd1-d7c2f979f4d9",
        "colab": {
          "base_uri": "https://localhost:8080/"
        }
      },
      "source": [
        "train['Embarked_num'].value_counts()"
      ],
      "execution_count": null,
      "outputs": [
        {
          "output_type": "execute_result",
          "data": {
            "text/plain": [
              "2    646\n",
              "0    168\n",
              "1     77\n",
              "Name: Embarked_num, dtype: int64"
            ]
          },
          "metadata": {},
          "execution_count": 96
        }
      ]
    },
    {
      "cell_type": "markdown",
      "metadata": {
        "id": "Tih7s6UzsS0K"
      },
      "source": [
        "Embarked는 탑승 항구의 이니셜을 나타냈습니다. \n",
        "\n",
        "그런데, 우리는 이전에 배운 내용처럼 `LabelEncoder`를 통해서 수치형으로 변환해주었습니다.\n",
        "\n",
        "하지만, 이대로 데이터를 기계학습을 시키면, 기계는 데이터 안에서 관계를 학습합니다."
      ]
    },
    {
      "cell_type": "markdown",
      "metadata": {
        "id": "8LdawQ_NsvEJ"
      },
      "source": [
        "즉, 'S' = 2, 'Q' = 1 이라고 되어 있는데, `Q` + `Q` = `S` 가 된다 라고 학습해버린다는 것이죠.\n",
        "\n",
        "그렇기 때문에, 독립적인 데이터는 별도의 column으로 분리하고,\n",
        "각각의 컬럼에 해당 값에만 **True** 나머지는 **False**를 갖습니다.\n",
        "우리는 이것은 원 핫 인코딩 한다라고 합니다."
      ]
    },
    {
      "cell_type": "code",
      "metadata": {
        "id": "z4b1hvsHtP1i",
        "outputId": "d7bd0adb-e646-40ab-a133-2e0630228314",
        "colab": {
          "base_uri": "https://localhost:8080/"
        }
      },
      "source": [
        "train['Embarked'][:11]"
      ],
      "execution_count": null,
      "outputs": [
        {
          "output_type": "execute_result",
          "data": {
            "text/plain": [
              "0     S\n",
              "1     C\n",
              "2     S\n",
              "3     S\n",
              "4     S\n",
              "5     Q\n",
              "6     S\n",
              "7     S\n",
              "8     S\n",
              "9     C\n",
              "10    S\n",
              "Name: Embarked, dtype: object"
            ]
          },
          "metadata": {},
          "execution_count": 105
        }
      ]
    },
    {
      "cell_type": "code",
      "metadata": {
        "id": "8z4xfBDnGTn5",
        "outputId": "76e8e49f-8d78-4065-f9e0-9be097c79e49",
        "colab": {
          "base_uri": "https://localhost:8080/"
        }
      },
      "source": [
        "train['Embarked_num'][:11]"
      ],
      "execution_count": null,
      "outputs": [
        {
          "output_type": "execute_result",
          "data": {
            "text/plain": [
              "0     2\n",
              "1     0\n",
              "2     2\n",
              "3     2\n",
              "4     2\n",
              "5     1\n",
              "6     2\n",
              "7     2\n",
              "8     2\n",
              "9     0\n",
              "10    2\n",
              "Name: Embarked_num, dtype: int64"
            ]
          },
          "metadata": {},
          "execution_count": 106
        }
      ]
    },
    {
      "cell_type": "code",
      "metadata": {
        "id": "dde1PkxoHF6k",
        "outputId": "6295d79c-cc3d-462f-cbd5-d9347d9b6586",
        "colab": {
          "base_uri": "https://localhost:8080/",
          "height": 390
        }
      },
      "source": [
        "pd.get_dummies(train['Embarked_num'][:11])"
      ],
      "execution_count": null,
      "outputs": [
        {
          "output_type": "execute_result",
          "data": {
            "text/html": [
              "\n",
              "  <div id=\"df-d441a830-3634-4c01-a631-1d3c5ad25e51\">\n",
              "    <div class=\"colab-df-container\">\n",
              "      <div>\n",
              "<style scoped>\n",
              "    .dataframe tbody tr th:only-of-type {\n",
              "        vertical-align: middle;\n",
              "    }\n",
              "\n",
              "    .dataframe tbody tr th {\n",
              "        vertical-align: top;\n",
              "    }\n",
              "\n",
              "    .dataframe thead th {\n",
              "        text-align: right;\n",
              "    }\n",
              "</style>\n",
              "<table border=\"1\" class=\"dataframe\">\n",
              "  <thead>\n",
              "    <tr style=\"text-align: right;\">\n",
              "      <th></th>\n",
              "      <th>0</th>\n",
              "      <th>1</th>\n",
              "      <th>2</th>\n",
              "    </tr>\n",
              "  </thead>\n",
              "  <tbody>\n",
              "    <tr>\n",
              "      <th>0</th>\n",
              "      <td>0</td>\n",
              "      <td>0</td>\n",
              "      <td>1</td>\n",
              "    </tr>\n",
              "    <tr>\n",
              "      <th>1</th>\n",
              "      <td>1</td>\n",
              "      <td>0</td>\n",
              "      <td>0</td>\n",
              "    </tr>\n",
              "    <tr>\n",
              "      <th>2</th>\n",
              "      <td>0</td>\n",
              "      <td>0</td>\n",
              "      <td>1</td>\n",
              "    </tr>\n",
              "    <tr>\n",
              "      <th>3</th>\n",
              "      <td>0</td>\n",
              "      <td>0</td>\n",
              "      <td>1</td>\n",
              "    </tr>\n",
              "    <tr>\n",
              "      <th>4</th>\n",
              "      <td>0</td>\n",
              "      <td>0</td>\n",
              "      <td>1</td>\n",
              "    </tr>\n",
              "    <tr>\n",
              "      <th>5</th>\n",
              "      <td>0</td>\n",
              "      <td>1</td>\n",
              "      <td>0</td>\n",
              "    </tr>\n",
              "    <tr>\n",
              "      <th>6</th>\n",
              "      <td>0</td>\n",
              "      <td>0</td>\n",
              "      <td>1</td>\n",
              "    </tr>\n",
              "    <tr>\n",
              "      <th>7</th>\n",
              "      <td>0</td>\n",
              "      <td>0</td>\n",
              "      <td>1</td>\n",
              "    </tr>\n",
              "    <tr>\n",
              "      <th>8</th>\n",
              "      <td>0</td>\n",
              "      <td>0</td>\n",
              "      <td>1</td>\n",
              "    </tr>\n",
              "    <tr>\n",
              "      <th>9</th>\n",
              "      <td>1</td>\n",
              "      <td>0</td>\n",
              "      <td>0</td>\n",
              "    </tr>\n",
              "    <tr>\n",
              "      <th>10</th>\n",
              "      <td>0</td>\n",
              "      <td>0</td>\n",
              "      <td>1</td>\n",
              "    </tr>\n",
              "  </tbody>\n",
              "</table>\n",
              "</div>\n",
              "      <button class=\"colab-df-convert\" onclick=\"convertToInteractive('df-d441a830-3634-4c01-a631-1d3c5ad25e51')\"\n",
              "              title=\"Convert this dataframe to an interactive table.\"\n",
              "              style=\"display:none;\">\n",
              "        \n",
              "  <svg xmlns=\"http://www.w3.org/2000/svg\" height=\"24px\"viewBox=\"0 0 24 24\"\n",
              "       width=\"24px\">\n",
              "    <path d=\"M0 0h24v24H0V0z\" fill=\"none\"/>\n",
              "    <path d=\"M18.56 5.44l.94 2.06.94-2.06 2.06-.94-2.06-.94-.94-2.06-.94 2.06-2.06.94zm-11 1L8.5 8.5l.94-2.06 2.06-.94-2.06-.94L8.5 2.5l-.94 2.06-2.06.94zm10 10l.94 2.06.94-2.06 2.06-.94-2.06-.94-.94-2.06-.94 2.06-2.06.94z\"/><path d=\"M17.41 7.96l-1.37-1.37c-.4-.4-.92-.59-1.43-.59-.52 0-1.04.2-1.43.59L10.3 9.45l-7.72 7.72c-.78.78-.78 2.05 0 2.83L4 21.41c.39.39.9.59 1.41.59.51 0 1.02-.2 1.41-.59l7.78-7.78 2.81-2.81c.8-.78.8-2.07 0-2.86zM5.41 20L4 18.59l7.72-7.72 1.47 1.35L5.41 20z\"/>\n",
              "  </svg>\n",
              "      </button>\n",
              "      \n",
              "  <style>\n",
              "    .colab-df-container {\n",
              "      display:flex;\n",
              "      flex-wrap:wrap;\n",
              "      gap: 12px;\n",
              "    }\n",
              "\n",
              "    .colab-df-convert {\n",
              "      background-color: #E8F0FE;\n",
              "      border: none;\n",
              "      border-radius: 50%;\n",
              "      cursor: pointer;\n",
              "      display: none;\n",
              "      fill: #1967D2;\n",
              "      height: 32px;\n",
              "      padding: 0 0 0 0;\n",
              "      width: 32px;\n",
              "    }\n",
              "\n",
              "    .colab-df-convert:hover {\n",
              "      background-color: #E2EBFA;\n",
              "      box-shadow: 0px 1px 2px rgba(60, 64, 67, 0.3), 0px 1px 3px 1px rgba(60, 64, 67, 0.15);\n",
              "      fill: #174EA6;\n",
              "    }\n",
              "\n",
              "    [theme=dark] .colab-df-convert {\n",
              "      background-color: #3B4455;\n",
              "      fill: #D2E3FC;\n",
              "    }\n",
              "\n",
              "    [theme=dark] .colab-df-convert:hover {\n",
              "      background-color: #434B5C;\n",
              "      box-shadow: 0px 1px 3px 1px rgba(0, 0, 0, 0.15);\n",
              "      filter: drop-shadow(0px 1px 2px rgba(0, 0, 0, 0.3));\n",
              "      fill: #FFFFFF;\n",
              "    }\n",
              "  </style>\n",
              "\n",
              "      <script>\n",
              "        const buttonEl =\n",
              "          document.querySelector('#df-d441a830-3634-4c01-a631-1d3c5ad25e51 button.colab-df-convert');\n",
              "        buttonEl.style.display =\n",
              "          google.colab.kernel.accessAllowed ? 'block' : 'none';\n",
              "\n",
              "        async function convertToInteractive(key) {\n",
              "          const element = document.querySelector('#df-d441a830-3634-4c01-a631-1d3c5ad25e51');\n",
              "          const dataTable =\n",
              "            await google.colab.kernel.invokeFunction('convertToInteractive',\n",
              "                                                     [key], {});\n",
              "          if (!dataTable) return;\n",
              "\n",
              "          const docLinkHtml = 'Like what you see? Visit the ' +\n",
              "            '<a target=\"_blank\" href=https://colab.research.google.com/notebooks/data_table.ipynb>data table notebook</a>'\n",
              "            + ' to learn more about interactive tables.';\n",
              "          element.innerHTML = '';\n",
              "          dataTable['output_type'] = 'display_data';\n",
              "          await google.colab.output.renderOutput(dataTable, element);\n",
              "          const docLink = document.createElement('div');\n",
              "          docLink.innerHTML = docLinkHtml;\n",
              "          element.appendChild(docLink);\n",
              "        }\n",
              "      </script>\n",
              "    </div>\n",
              "  </div>\n",
              "  "
            ],
            "text/plain": [
              "    0  1  2\n",
              "0   0  0  1\n",
              "1   1  0  0\n",
              "2   0  0  1\n",
              "3   0  0  1\n",
              "4   0  0  1\n",
              "5   0  1  0\n",
              "6   0  0  1\n",
              "7   0  0  1\n",
              "8   0  0  1\n",
              "9   1  0  0\n",
              "10  0  0  1"
            ]
          },
          "metadata": {},
          "execution_count": 108
        }
      ]
    },
    {
      "cell_type": "code",
      "metadata": {
        "id": "U08rqF1xHV_2"
      },
      "source": [
        "one_hot = pd.get_dummies(train['Embarked_num'][:11])"
      ],
      "execution_count": null,
      "outputs": []
    },
    {
      "cell_type": "code",
      "source": [
        "one_hot"
      ],
      "metadata": {
        "colab": {
          "base_uri": "https://localhost:8080/",
          "height": 390
        },
        "id": "DdyEp-d_WMl8",
        "outputId": "1a568ecd-fb29-4ea8-b135-21612ff69efb"
      },
      "execution_count": null,
      "outputs": [
        {
          "output_type": "execute_result",
          "data": {
            "text/html": [
              "\n",
              "  <div id=\"df-efdbfde4-75b0-44ec-9f5b-612387a4d92e\">\n",
              "    <div class=\"colab-df-container\">\n",
              "      <div>\n",
              "<style scoped>\n",
              "    .dataframe tbody tr th:only-of-type {\n",
              "        vertical-align: middle;\n",
              "    }\n",
              "\n",
              "    .dataframe tbody tr th {\n",
              "        vertical-align: top;\n",
              "    }\n",
              "\n",
              "    .dataframe thead th {\n",
              "        text-align: right;\n",
              "    }\n",
              "</style>\n",
              "<table border=\"1\" class=\"dataframe\">\n",
              "  <thead>\n",
              "    <tr style=\"text-align: right;\">\n",
              "      <th></th>\n",
              "      <th>0</th>\n",
              "      <th>1</th>\n",
              "      <th>2</th>\n",
              "    </tr>\n",
              "  </thead>\n",
              "  <tbody>\n",
              "    <tr>\n",
              "      <th>0</th>\n",
              "      <td>0</td>\n",
              "      <td>0</td>\n",
              "      <td>1</td>\n",
              "    </tr>\n",
              "    <tr>\n",
              "      <th>1</th>\n",
              "      <td>1</td>\n",
              "      <td>0</td>\n",
              "      <td>0</td>\n",
              "    </tr>\n",
              "    <tr>\n",
              "      <th>2</th>\n",
              "      <td>0</td>\n",
              "      <td>0</td>\n",
              "      <td>1</td>\n",
              "    </tr>\n",
              "    <tr>\n",
              "      <th>3</th>\n",
              "      <td>0</td>\n",
              "      <td>0</td>\n",
              "      <td>1</td>\n",
              "    </tr>\n",
              "    <tr>\n",
              "      <th>4</th>\n",
              "      <td>0</td>\n",
              "      <td>0</td>\n",
              "      <td>1</td>\n",
              "    </tr>\n",
              "    <tr>\n",
              "      <th>5</th>\n",
              "      <td>0</td>\n",
              "      <td>1</td>\n",
              "      <td>0</td>\n",
              "    </tr>\n",
              "    <tr>\n",
              "      <th>6</th>\n",
              "      <td>0</td>\n",
              "      <td>0</td>\n",
              "      <td>1</td>\n",
              "    </tr>\n",
              "    <tr>\n",
              "      <th>7</th>\n",
              "      <td>0</td>\n",
              "      <td>0</td>\n",
              "      <td>1</td>\n",
              "    </tr>\n",
              "    <tr>\n",
              "      <th>8</th>\n",
              "      <td>0</td>\n",
              "      <td>0</td>\n",
              "      <td>1</td>\n",
              "    </tr>\n",
              "    <tr>\n",
              "      <th>9</th>\n",
              "      <td>1</td>\n",
              "      <td>0</td>\n",
              "      <td>0</td>\n",
              "    </tr>\n",
              "    <tr>\n",
              "      <th>10</th>\n",
              "      <td>0</td>\n",
              "      <td>0</td>\n",
              "      <td>1</td>\n",
              "    </tr>\n",
              "  </tbody>\n",
              "</table>\n",
              "</div>\n",
              "      <button class=\"colab-df-convert\" onclick=\"convertToInteractive('df-efdbfde4-75b0-44ec-9f5b-612387a4d92e')\"\n",
              "              title=\"Convert this dataframe to an interactive table.\"\n",
              "              style=\"display:none;\">\n",
              "        \n",
              "  <svg xmlns=\"http://www.w3.org/2000/svg\" height=\"24px\"viewBox=\"0 0 24 24\"\n",
              "       width=\"24px\">\n",
              "    <path d=\"M0 0h24v24H0V0z\" fill=\"none\"/>\n",
              "    <path d=\"M18.56 5.44l.94 2.06.94-2.06 2.06-.94-2.06-.94-.94-2.06-.94 2.06-2.06.94zm-11 1L8.5 8.5l.94-2.06 2.06-.94-2.06-.94L8.5 2.5l-.94 2.06-2.06.94zm10 10l.94 2.06.94-2.06 2.06-.94-2.06-.94-.94-2.06-.94 2.06-2.06.94z\"/><path d=\"M17.41 7.96l-1.37-1.37c-.4-.4-.92-.59-1.43-.59-.52 0-1.04.2-1.43.59L10.3 9.45l-7.72 7.72c-.78.78-.78 2.05 0 2.83L4 21.41c.39.39.9.59 1.41.59.51 0 1.02-.2 1.41-.59l7.78-7.78 2.81-2.81c.8-.78.8-2.07 0-2.86zM5.41 20L4 18.59l7.72-7.72 1.47 1.35L5.41 20z\"/>\n",
              "  </svg>\n",
              "      </button>\n",
              "      \n",
              "  <style>\n",
              "    .colab-df-container {\n",
              "      display:flex;\n",
              "      flex-wrap:wrap;\n",
              "      gap: 12px;\n",
              "    }\n",
              "\n",
              "    .colab-df-convert {\n",
              "      background-color: #E8F0FE;\n",
              "      border: none;\n",
              "      border-radius: 50%;\n",
              "      cursor: pointer;\n",
              "      display: none;\n",
              "      fill: #1967D2;\n",
              "      height: 32px;\n",
              "      padding: 0 0 0 0;\n",
              "      width: 32px;\n",
              "    }\n",
              "\n",
              "    .colab-df-convert:hover {\n",
              "      background-color: #E2EBFA;\n",
              "      box-shadow: 0px 1px 2px rgba(60, 64, 67, 0.3), 0px 1px 3px 1px rgba(60, 64, 67, 0.15);\n",
              "      fill: #174EA6;\n",
              "    }\n",
              "\n",
              "    [theme=dark] .colab-df-convert {\n",
              "      background-color: #3B4455;\n",
              "      fill: #D2E3FC;\n",
              "    }\n",
              "\n",
              "    [theme=dark] .colab-df-convert:hover {\n",
              "      background-color: #434B5C;\n",
              "      box-shadow: 0px 1px 3px 1px rgba(0, 0, 0, 0.15);\n",
              "      filter: drop-shadow(0px 1px 2px rgba(0, 0, 0, 0.3));\n",
              "      fill: #FFFFFF;\n",
              "    }\n",
              "  </style>\n",
              "\n",
              "      <script>\n",
              "        const buttonEl =\n",
              "          document.querySelector('#df-efdbfde4-75b0-44ec-9f5b-612387a4d92e button.colab-df-convert');\n",
              "        buttonEl.style.display =\n",
              "          google.colab.kernel.accessAllowed ? 'block' : 'none';\n",
              "\n",
              "        async function convertToInteractive(key) {\n",
              "          const element = document.querySelector('#df-efdbfde4-75b0-44ec-9f5b-612387a4d92e');\n",
              "          const dataTable =\n",
              "            await google.colab.kernel.invokeFunction('convertToInteractive',\n",
              "                                                     [key], {});\n",
              "          if (!dataTable) return;\n",
              "\n",
              "          const docLinkHtml = 'Like what you see? Visit the ' +\n",
              "            '<a target=\"_blank\" href=https://colab.research.google.com/notebooks/data_table.ipynb>data table notebook</a>'\n",
              "            + ' to learn more about interactive tables.';\n",
              "          element.innerHTML = '';\n",
              "          dataTable['output_type'] = 'display_data';\n",
              "          await google.colab.output.renderOutput(dataTable, element);\n",
              "          const docLink = document.createElement('div');\n",
              "          docLink.innerHTML = docLinkHtml;\n",
              "          element.appendChild(docLink);\n",
              "        }\n",
              "      </script>\n",
              "    </div>\n",
              "  </div>\n",
              "  "
            ],
            "text/plain": [
              "    0  1  2\n",
              "0   0  0  1\n",
              "1   1  0  0\n",
              "2   0  0  1\n",
              "3   0  0  1\n",
              "4   0  0  1\n",
              "5   0  1  0\n",
              "6   0  0  1\n",
              "7   0  0  1\n",
              "8   0  0  1\n",
              "9   1  0  0\n",
              "10  0  0  1"
            ]
          },
          "metadata": {},
          "execution_count": 111
        }
      ]
    },
    {
      "cell_type": "code",
      "metadata": {
        "id": "IvNp1MEfHb8q"
      },
      "source": [
        "one_hot.columns = ['C','Q','S']"
      ],
      "execution_count": null,
      "outputs": []
    },
    {
      "cell_type": "code",
      "metadata": {
        "id": "J5ULhrVnHphV",
        "outputId": "9abf88f2-0e2f-4655-9518-2156e5965a57",
        "colab": {
          "base_uri": "https://localhost:8080/",
          "height": 390
        }
      },
      "source": [
        "one_hot"
      ],
      "execution_count": null,
      "outputs": [
        {
          "output_type": "execute_result",
          "data": {
            "text/html": [
              "\n",
              "  <div id=\"df-937daf34-3894-426f-965c-5b2f72807106\">\n",
              "    <div class=\"colab-df-container\">\n",
              "      <div>\n",
              "<style scoped>\n",
              "    .dataframe tbody tr th:only-of-type {\n",
              "        vertical-align: middle;\n",
              "    }\n",
              "\n",
              "    .dataframe tbody tr th {\n",
              "        vertical-align: top;\n",
              "    }\n",
              "\n",
              "    .dataframe thead th {\n",
              "        text-align: right;\n",
              "    }\n",
              "</style>\n",
              "<table border=\"1\" class=\"dataframe\">\n",
              "  <thead>\n",
              "    <tr style=\"text-align: right;\">\n",
              "      <th></th>\n",
              "      <th>C</th>\n",
              "      <th>Q</th>\n",
              "      <th>S</th>\n",
              "    </tr>\n",
              "  </thead>\n",
              "  <tbody>\n",
              "    <tr>\n",
              "      <th>0</th>\n",
              "      <td>0</td>\n",
              "      <td>0</td>\n",
              "      <td>1</td>\n",
              "    </tr>\n",
              "    <tr>\n",
              "      <th>1</th>\n",
              "      <td>1</td>\n",
              "      <td>0</td>\n",
              "      <td>0</td>\n",
              "    </tr>\n",
              "    <tr>\n",
              "      <th>2</th>\n",
              "      <td>0</td>\n",
              "      <td>0</td>\n",
              "      <td>1</td>\n",
              "    </tr>\n",
              "    <tr>\n",
              "      <th>3</th>\n",
              "      <td>0</td>\n",
              "      <td>0</td>\n",
              "      <td>1</td>\n",
              "    </tr>\n",
              "    <tr>\n",
              "      <th>4</th>\n",
              "      <td>0</td>\n",
              "      <td>0</td>\n",
              "      <td>1</td>\n",
              "    </tr>\n",
              "    <tr>\n",
              "      <th>5</th>\n",
              "      <td>0</td>\n",
              "      <td>1</td>\n",
              "      <td>0</td>\n",
              "    </tr>\n",
              "    <tr>\n",
              "      <th>6</th>\n",
              "      <td>0</td>\n",
              "      <td>0</td>\n",
              "      <td>1</td>\n",
              "    </tr>\n",
              "    <tr>\n",
              "      <th>7</th>\n",
              "      <td>0</td>\n",
              "      <td>0</td>\n",
              "      <td>1</td>\n",
              "    </tr>\n",
              "    <tr>\n",
              "      <th>8</th>\n",
              "      <td>0</td>\n",
              "      <td>0</td>\n",
              "      <td>1</td>\n",
              "    </tr>\n",
              "    <tr>\n",
              "      <th>9</th>\n",
              "      <td>1</td>\n",
              "      <td>0</td>\n",
              "      <td>0</td>\n",
              "    </tr>\n",
              "    <tr>\n",
              "      <th>10</th>\n",
              "      <td>0</td>\n",
              "      <td>0</td>\n",
              "      <td>1</td>\n",
              "    </tr>\n",
              "  </tbody>\n",
              "</table>\n",
              "</div>\n",
              "      <button class=\"colab-df-convert\" onclick=\"convertToInteractive('df-937daf34-3894-426f-965c-5b2f72807106')\"\n",
              "              title=\"Convert this dataframe to an interactive table.\"\n",
              "              style=\"display:none;\">\n",
              "        \n",
              "  <svg xmlns=\"http://www.w3.org/2000/svg\" height=\"24px\"viewBox=\"0 0 24 24\"\n",
              "       width=\"24px\">\n",
              "    <path d=\"M0 0h24v24H0V0z\" fill=\"none\"/>\n",
              "    <path d=\"M18.56 5.44l.94 2.06.94-2.06 2.06-.94-2.06-.94-.94-2.06-.94 2.06-2.06.94zm-11 1L8.5 8.5l.94-2.06 2.06-.94-2.06-.94L8.5 2.5l-.94 2.06-2.06.94zm10 10l.94 2.06.94-2.06 2.06-.94-2.06-.94-.94-2.06-.94 2.06-2.06.94z\"/><path d=\"M17.41 7.96l-1.37-1.37c-.4-.4-.92-.59-1.43-.59-.52 0-1.04.2-1.43.59L10.3 9.45l-7.72 7.72c-.78.78-.78 2.05 0 2.83L4 21.41c.39.39.9.59 1.41.59.51 0 1.02-.2 1.41-.59l7.78-7.78 2.81-2.81c.8-.78.8-2.07 0-2.86zM5.41 20L4 18.59l7.72-7.72 1.47 1.35L5.41 20z\"/>\n",
              "  </svg>\n",
              "      </button>\n",
              "      \n",
              "  <style>\n",
              "    .colab-df-container {\n",
              "      display:flex;\n",
              "      flex-wrap:wrap;\n",
              "      gap: 12px;\n",
              "    }\n",
              "\n",
              "    .colab-df-convert {\n",
              "      background-color: #E8F0FE;\n",
              "      border: none;\n",
              "      border-radius: 50%;\n",
              "      cursor: pointer;\n",
              "      display: none;\n",
              "      fill: #1967D2;\n",
              "      height: 32px;\n",
              "      padding: 0 0 0 0;\n",
              "      width: 32px;\n",
              "    }\n",
              "\n",
              "    .colab-df-convert:hover {\n",
              "      background-color: #E2EBFA;\n",
              "      box-shadow: 0px 1px 2px rgba(60, 64, 67, 0.3), 0px 1px 3px 1px rgba(60, 64, 67, 0.15);\n",
              "      fill: #174EA6;\n",
              "    }\n",
              "\n",
              "    [theme=dark] .colab-df-convert {\n",
              "      background-color: #3B4455;\n",
              "      fill: #D2E3FC;\n",
              "    }\n",
              "\n",
              "    [theme=dark] .colab-df-convert:hover {\n",
              "      background-color: #434B5C;\n",
              "      box-shadow: 0px 1px 3px 1px rgba(0, 0, 0, 0.15);\n",
              "      filter: drop-shadow(0px 1px 2px rgba(0, 0, 0, 0.3));\n",
              "      fill: #FFFFFF;\n",
              "    }\n",
              "  </style>\n",
              "\n",
              "      <script>\n",
              "        const buttonEl =\n",
              "          document.querySelector('#df-937daf34-3894-426f-965c-5b2f72807106 button.colab-df-convert');\n",
              "        buttonEl.style.display =\n",
              "          google.colab.kernel.accessAllowed ? 'block' : 'none';\n",
              "\n",
              "        async function convertToInteractive(key) {\n",
              "          const element = document.querySelector('#df-937daf34-3894-426f-965c-5b2f72807106');\n",
              "          const dataTable =\n",
              "            await google.colab.kernel.invokeFunction('convertToInteractive',\n",
              "                                                     [key], {});\n",
              "          if (!dataTable) return;\n",
              "\n",
              "          const docLinkHtml = 'Like what you see? Visit the ' +\n",
              "            '<a target=\"_blank\" href=https://colab.research.google.com/notebooks/data_table.ipynb>data table notebook</a>'\n",
              "            + ' to learn more about interactive tables.';\n",
              "          element.innerHTML = '';\n",
              "          dataTable['output_type'] = 'display_data';\n",
              "          await google.colab.output.renderOutput(dataTable, element);\n",
              "          const docLink = document.createElement('div');\n",
              "          docLink.innerHTML = docLinkHtml;\n",
              "          element.appendChild(docLink);\n",
              "        }\n",
              "      </script>\n",
              "    </div>\n",
              "  </div>\n",
              "  "
            ],
            "text/plain": [
              "    C  Q  S\n",
              "0   0  0  1\n",
              "1   1  0  0\n",
              "2   0  0  1\n",
              "3   0  0  1\n",
              "4   0  0  1\n",
              "5   0  1  0\n",
              "6   0  0  1\n",
              "7   0  0  1\n",
              "8   0  0  1\n",
              "9   1  0  0\n",
              "10  0  0  1"
            ]
          },
          "metadata": {},
          "execution_count": 113
        }
      ]
    },
    {
      "cell_type": "markdown",
      "metadata": {
        "id": "J0gfDd2aHqi8"
      },
      "source": [
        "위와 같이 column 을 분리시켜 **카테고리형 -> 수치형으로 변환**하면서 생기는 `수치형 값`의 관계를 끊어주어서 독립적인 형태로 바꾸어 줍니다."
      ]
    },
    {
      "cell_type": "markdown",
      "metadata": {
        "id": "lrjiUR8AH7VF"
      },
      "source": [
        "**원핫인코딩**은 카테고리 (계절, 항구, 성별, 종류, 한식/일식/중식...)의 특성을 가지는 column에 대해서 적용 합니다."
      ]
    },
    {
      "cell_type": "markdown",
      "metadata": {
        "id": "BTAQgv8-ITTc"
      },
      "source": [
        "## 전처리: Normalize (정규화)"
      ]
    },
    {
      "cell_type": "markdown",
      "metadata": {
        "id": "i4HbKYn-P95k"
      },
      "source": [
        "column 간에 다른 **min**, **max** 값을 가지는 경우, 정규화를 통해 최소치/ 최대값의 척도를 맞추어 주는 것"
      ]
    },
    {
      "cell_type": "markdown",
      "metadata": {
        "id": "CAqFJGvJQMZ0"
      },
      "source": [
        "* 네이버 영화평점 (0점 ~ 10점): [2, 4, 6, 8, 10]\n",
        "* 넷플릭스 영화평점 (0점 ~ 5점): [1, 2, 3, 4, 5]"
      ]
    },
    {
      "cell_type": "code",
      "metadata": {
        "id": "qgkJSYdoQqaM"
      },
      "source": [
        "movie = {'naver' : [2, 4, 6, 8, 10],\n",
        "         'netflix' : [1, 2, 3, 4, 5]\n",
        "}"
      ],
      "execution_count": null,
      "outputs": []
    },
    {
      "cell_type": "code",
      "metadata": {
        "id": "s9JYILdPQko2",
        "outputId": "8f764570-fbf4-4693-87ec-97b7818c8622",
        "colab": {
          "base_uri": "https://localhost:8080/",
          "height": 204
        }
      },
      "source": [
        "movie = pd.DataFrame(data=movie)\n",
        "movie"
      ],
      "execution_count": null,
      "outputs": [
        {
          "output_type": "execute_result",
          "data": {
            "text/html": [
              "\n",
              "  <div id=\"df-601ad92d-57f5-4c0d-a4ee-6992ef4a6447\">\n",
              "    <div class=\"colab-df-container\">\n",
              "      <div>\n",
              "<style scoped>\n",
              "    .dataframe tbody tr th:only-of-type {\n",
              "        vertical-align: middle;\n",
              "    }\n",
              "\n",
              "    .dataframe tbody tr th {\n",
              "        vertical-align: top;\n",
              "    }\n",
              "\n",
              "    .dataframe thead th {\n",
              "        text-align: right;\n",
              "    }\n",
              "</style>\n",
              "<table border=\"1\" class=\"dataframe\">\n",
              "  <thead>\n",
              "    <tr style=\"text-align: right;\">\n",
              "      <th></th>\n",
              "      <th>naver</th>\n",
              "      <th>netflix</th>\n",
              "    </tr>\n",
              "  </thead>\n",
              "  <tbody>\n",
              "    <tr>\n",
              "      <th>0</th>\n",
              "      <td>2</td>\n",
              "      <td>1</td>\n",
              "    </tr>\n",
              "    <tr>\n",
              "      <th>1</th>\n",
              "      <td>4</td>\n",
              "      <td>2</td>\n",
              "    </tr>\n",
              "    <tr>\n",
              "      <th>2</th>\n",
              "      <td>6</td>\n",
              "      <td>3</td>\n",
              "    </tr>\n",
              "    <tr>\n",
              "      <th>3</th>\n",
              "      <td>8</td>\n",
              "      <td>4</td>\n",
              "    </tr>\n",
              "    <tr>\n",
              "      <th>4</th>\n",
              "      <td>10</td>\n",
              "      <td>5</td>\n",
              "    </tr>\n",
              "  </tbody>\n",
              "</table>\n",
              "</div>\n",
              "      <button class=\"colab-df-convert\" onclick=\"convertToInteractive('df-601ad92d-57f5-4c0d-a4ee-6992ef4a6447')\"\n",
              "              title=\"Convert this dataframe to an interactive table.\"\n",
              "              style=\"display:none;\">\n",
              "        \n",
              "  <svg xmlns=\"http://www.w3.org/2000/svg\" height=\"24px\"viewBox=\"0 0 24 24\"\n",
              "       width=\"24px\">\n",
              "    <path d=\"M0 0h24v24H0V0z\" fill=\"none\"/>\n",
              "    <path d=\"M18.56 5.44l.94 2.06.94-2.06 2.06-.94-2.06-.94-.94-2.06-.94 2.06-2.06.94zm-11 1L8.5 8.5l.94-2.06 2.06-.94-2.06-.94L8.5 2.5l-.94 2.06-2.06.94zm10 10l.94 2.06.94-2.06 2.06-.94-2.06-.94-.94-2.06-.94 2.06-2.06.94z\"/><path d=\"M17.41 7.96l-1.37-1.37c-.4-.4-.92-.59-1.43-.59-.52 0-1.04.2-1.43.59L10.3 9.45l-7.72 7.72c-.78.78-.78 2.05 0 2.83L4 21.41c.39.39.9.59 1.41.59.51 0 1.02-.2 1.41-.59l7.78-7.78 2.81-2.81c.8-.78.8-2.07 0-2.86zM5.41 20L4 18.59l7.72-7.72 1.47 1.35L5.41 20z\"/>\n",
              "  </svg>\n",
              "      </button>\n",
              "      \n",
              "  <style>\n",
              "    .colab-df-container {\n",
              "      display:flex;\n",
              "      flex-wrap:wrap;\n",
              "      gap: 12px;\n",
              "    }\n",
              "\n",
              "    .colab-df-convert {\n",
              "      background-color: #E8F0FE;\n",
              "      border: none;\n",
              "      border-radius: 50%;\n",
              "      cursor: pointer;\n",
              "      display: none;\n",
              "      fill: #1967D2;\n",
              "      height: 32px;\n",
              "      padding: 0 0 0 0;\n",
              "      width: 32px;\n",
              "    }\n",
              "\n",
              "    .colab-df-convert:hover {\n",
              "      background-color: #E2EBFA;\n",
              "      box-shadow: 0px 1px 2px rgba(60, 64, 67, 0.3), 0px 1px 3px 1px rgba(60, 64, 67, 0.15);\n",
              "      fill: #174EA6;\n",
              "    }\n",
              "\n",
              "    [theme=dark] .colab-df-convert {\n",
              "      background-color: #3B4455;\n",
              "      fill: #D2E3FC;\n",
              "    }\n",
              "\n",
              "    [theme=dark] .colab-df-convert:hover {\n",
              "      background-color: #434B5C;\n",
              "      box-shadow: 0px 1px 3px 1px rgba(0, 0, 0, 0.15);\n",
              "      filter: drop-shadow(0px 1px 2px rgba(0, 0, 0, 0.3));\n",
              "      fill: #FFFFFF;\n",
              "    }\n",
              "  </style>\n",
              "\n",
              "      <script>\n",
              "        const buttonEl =\n",
              "          document.querySelector('#df-601ad92d-57f5-4c0d-a4ee-6992ef4a6447 button.colab-df-convert');\n",
              "        buttonEl.style.display =\n",
              "          google.colab.kernel.accessAllowed ? 'block' : 'none';\n",
              "\n",
              "        async function convertToInteractive(key) {\n",
              "          const element = document.querySelector('#df-601ad92d-57f5-4c0d-a4ee-6992ef4a6447');\n",
              "          const dataTable =\n",
              "            await google.colab.kernel.invokeFunction('convertToInteractive',\n",
              "                                                     [key], {});\n",
              "          if (!dataTable) return;\n",
              "\n",
              "          const docLinkHtml = 'Like what you see? Visit the ' +\n",
              "            '<a target=\"_blank\" href=https://colab.research.google.com/notebooks/data_table.ipynb>data table notebook</a>'\n",
              "            + ' to learn more about interactive tables.';\n",
              "          element.innerHTML = '';\n",
              "          dataTable['output_type'] = 'display_data';\n",
              "          await google.colab.output.renderOutput(dataTable, element);\n",
              "          const docLink = document.createElement('div');\n",
              "          docLink.innerHTML = docLinkHtml;\n",
              "          element.appendChild(docLink);\n",
              "        }\n",
              "      </script>\n",
              "    </div>\n",
              "  </div>\n",
              "  "
            ],
            "text/plain": [
              "   naver  netflix\n",
              "0      2        1\n",
              "1      4        2\n",
              "2      6        3\n",
              "3      8        4\n",
              "4     10        5"
            ]
          },
          "metadata": {},
          "execution_count": 145
        }
      ]
    },
    {
      "cell_type": "code",
      "metadata": {
        "id": "A1SKoNQ0JAm-"
      },
      "source": [
        "from sklearn.preprocessing import MinMaxScaler"
      ],
      "execution_count": null,
      "outputs": []
    },
    {
      "cell_type": "code",
      "metadata": {
        "id": "90DHkLsPJHpQ"
      },
      "source": [
        "mms = MinMaxScaler()"
      ],
      "execution_count": null,
      "outputs": []
    },
    {
      "cell_type": "code",
      "metadata": {
        "id": "Guo0lnCPJLHa"
      },
      "source": [
        "movie_normal = mms.fit_transform(movie)"
      ],
      "execution_count": null,
      "outputs": []
    },
    {
      "cell_type": "code",
      "source": [
        "movie_normal"
      ],
      "metadata": {
        "colab": {
          "base_uri": "https://localhost:8080/"
        },
        "id": "emAzC0PEgE38",
        "outputId": "4d5fc9ab-0316-40f1-ce0c-d5afe60abec4"
      },
      "execution_count": null,
      "outputs": [
        {
          "output_type": "execute_result",
          "data": {
            "text/plain": [
              "array([[0.  , 0.  ],\n",
              "       [0.25, 0.25],\n",
              "       [0.5 , 0.5 ],\n",
              "       [0.75, 0.75],\n",
              "       [1.  , 1.  ]])"
            ]
          },
          "metadata": {},
          "execution_count": 143
        }
      ]
    },
    {
      "cell_type": "code",
      "metadata": {
        "id": "ONuB-MEZJQx5",
        "outputId": "175d462a-e88f-4373-d47a-719d609c5c51",
        "colab": {
          "base_uri": "https://localhost:8080/",
          "height": 204
        }
      },
      "source": [
        "pd.DataFrame(movie_normal, columns=['naver', 'netfliex'])"
      ],
      "execution_count": null,
      "outputs": [
        {
          "output_type": "execute_result",
          "data": {
            "text/html": [
              "\n",
              "  <div id=\"df-813ff0f0-68d7-400c-a90f-bf926bbe9842\">\n",
              "    <div class=\"colab-df-container\">\n",
              "      <div>\n",
              "<style scoped>\n",
              "    .dataframe tbody tr th:only-of-type {\n",
              "        vertical-align: middle;\n",
              "    }\n",
              "\n",
              "    .dataframe tbody tr th {\n",
              "        vertical-align: top;\n",
              "    }\n",
              "\n",
              "    .dataframe thead th {\n",
              "        text-align: right;\n",
              "    }\n",
              "</style>\n",
              "<table border=\"1\" class=\"dataframe\">\n",
              "  <thead>\n",
              "    <tr style=\"text-align: right;\">\n",
              "      <th></th>\n",
              "      <th>naver</th>\n",
              "      <th>netfliex</th>\n",
              "    </tr>\n",
              "  </thead>\n",
              "  <tbody>\n",
              "    <tr>\n",
              "      <th>0</th>\n",
              "      <td>0.00</td>\n",
              "      <td>0.00</td>\n",
              "    </tr>\n",
              "    <tr>\n",
              "      <th>1</th>\n",
              "      <td>0.25</td>\n",
              "      <td>0.25</td>\n",
              "    </tr>\n",
              "    <tr>\n",
              "      <th>2</th>\n",
              "      <td>0.50</td>\n",
              "      <td>0.50</td>\n",
              "    </tr>\n",
              "    <tr>\n",
              "      <th>3</th>\n",
              "      <td>0.75</td>\n",
              "      <td>0.75</td>\n",
              "    </tr>\n",
              "    <tr>\n",
              "      <th>4</th>\n",
              "      <td>1.00</td>\n",
              "      <td>1.00</td>\n",
              "    </tr>\n",
              "  </tbody>\n",
              "</table>\n",
              "</div>\n",
              "      <button class=\"colab-df-convert\" onclick=\"convertToInteractive('df-813ff0f0-68d7-400c-a90f-bf926bbe9842')\"\n",
              "              title=\"Convert this dataframe to an interactive table.\"\n",
              "              style=\"display:none;\">\n",
              "        \n",
              "  <svg xmlns=\"http://www.w3.org/2000/svg\" height=\"24px\"viewBox=\"0 0 24 24\"\n",
              "       width=\"24px\">\n",
              "    <path d=\"M0 0h24v24H0V0z\" fill=\"none\"/>\n",
              "    <path d=\"M18.56 5.44l.94 2.06.94-2.06 2.06-.94-2.06-.94-.94-2.06-.94 2.06-2.06.94zm-11 1L8.5 8.5l.94-2.06 2.06-.94-2.06-.94L8.5 2.5l-.94 2.06-2.06.94zm10 10l.94 2.06.94-2.06 2.06-.94-2.06-.94-.94-2.06-.94 2.06-2.06.94z\"/><path d=\"M17.41 7.96l-1.37-1.37c-.4-.4-.92-.59-1.43-.59-.52 0-1.04.2-1.43.59L10.3 9.45l-7.72 7.72c-.78.78-.78 2.05 0 2.83L4 21.41c.39.39.9.59 1.41.59.51 0 1.02-.2 1.41-.59l7.78-7.78 2.81-2.81c.8-.78.8-2.07 0-2.86zM5.41 20L4 18.59l7.72-7.72 1.47 1.35L5.41 20z\"/>\n",
              "  </svg>\n",
              "      </button>\n",
              "      \n",
              "  <style>\n",
              "    .colab-df-container {\n",
              "      display:flex;\n",
              "      flex-wrap:wrap;\n",
              "      gap: 12px;\n",
              "    }\n",
              "\n",
              "    .colab-df-convert {\n",
              "      background-color: #E8F0FE;\n",
              "      border: none;\n",
              "      border-radius: 50%;\n",
              "      cursor: pointer;\n",
              "      display: none;\n",
              "      fill: #1967D2;\n",
              "      height: 32px;\n",
              "      padding: 0 0 0 0;\n",
              "      width: 32px;\n",
              "    }\n",
              "\n",
              "    .colab-df-convert:hover {\n",
              "      background-color: #E2EBFA;\n",
              "      box-shadow: 0px 1px 2px rgba(60, 64, 67, 0.3), 0px 1px 3px 1px rgba(60, 64, 67, 0.15);\n",
              "      fill: #174EA6;\n",
              "    }\n",
              "\n",
              "    [theme=dark] .colab-df-convert {\n",
              "      background-color: #3B4455;\n",
              "      fill: #D2E3FC;\n",
              "    }\n",
              "\n",
              "    [theme=dark] .colab-df-convert:hover {\n",
              "      background-color: #434B5C;\n",
              "      box-shadow: 0px 1px 3px 1px rgba(0, 0, 0, 0.15);\n",
              "      filter: drop-shadow(0px 1px 2px rgba(0, 0, 0, 0.3));\n",
              "      fill: #FFFFFF;\n",
              "    }\n",
              "  </style>\n",
              "\n",
              "      <script>\n",
              "        const buttonEl =\n",
              "          document.querySelector('#df-813ff0f0-68d7-400c-a90f-bf926bbe9842 button.colab-df-convert');\n",
              "        buttonEl.style.display =\n",
              "          google.colab.kernel.accessAllowed ? 'block' : 'none';\n",
              "\n",
              "        async function convertToInteractive(key) {\n",
              "          const element = document.querySelector('#df-813ff0f0-68d7-400c-a90f-bf926bbe9842');\n",
              "          const dataTable =\n",
              "            await google.colab.kernel.invokeFunction('convertToInteractive',\n",
              "                                                     [key], {});\n",
              "          if (!dataTable) return;\n",
              "\n",
              "          const docLinkHtml = 'Like what you see? Visit the ' +\n",
              "            '<a target=\"_blank\" href=https://colab.research.google.com/notebooks/data_table.ipynb>data table notebook</a>'\n",
              "            + ' to learn more about interactive tables.';\n",
              "          element.innerHTML = '';\n",
              "          dataTable['output_type'] = 'display_data';\n",
              "          await google.colab.output.renderOutput(dataTable, element);\n",
              "          const docLink = document.createElement('div');\n",
              "          docLink.innerHTML = docLinkHtml;\n",
              "          element.appendChild(docLink);\n",
              "        }\n",
              "      </script>\n",
              "    </div>\n",
              "  </div>\n",
              "  "
            ],
            "text/plain": [
              "   naver  netfliex\n",
              "0   0.00      0.00\n",
              "1   0.25      0.25\n",
              "2   0.50      0.50\n",
              "3   0.75      0.75\n",
              "4   1.00      1.00"
            ]
          },
          "metadata": {},
          "execution_count": 144
        }
      ]
    },
    {
      "cell_type": "markdown",
      "metadata": {
        "id": "PZ1c0BjtNil8"
      },
      "source": [
        "## 표준화 (Standard Scaling)"
      ]
    },
    {
      "cell_type": "markdown",
      "metadata": {
        "id": "fYxdQQWiOZTU"
      },
      "source": [
        "**평균이 0과 표준편차가 1**이 되도록 변환"
      ]
    },
    {
      "cell_type": "code",
      "metadata": {
        "id": "Wg0liGI4NWC0"
      },
      "source": [
        "from sklearn.preprocessing import StandardScaler\n",
        "\n",
        "standard_scaler = StandardScaler()"
      ],
      "execution_count": 164,
      "outputs": []
    },
    {
      "cell_type": "markdown",
      "metadata": {
        "id": "YiDlPgdISPYB"
      },
      "source": [
        "샘플데이터를 생성합니다."
      ]
    },
    {
      "cell_type": "code",
      "metadata": {
        "id": "0DDITKe0SFHq"
      },
      "source": [
        "import numpy as np \n",
        "\n",
        "x = np.arange(10)\n",
        "# outlier 추가\n",
        "x[9] = 1000"
      ],
      "execution_count": 165,
      "outputs": []
    },
    {
      "cell_type": "code",
      "metadata": {
        "id": "jA1YvfUXSL_I",
        "outputId": "b04e55cf-bcbd-4cea-c93b-c9b1eae61920",
        "colab": {
          "base_uri": "https://localhost:8080/"
        }
      },
      "source": [
        "x.mean(), x.std()"
      ],
      "execution_count": 166,
      "outputs": [
        {
          "output_type": "execute_result",
          "data": {
            "text/plain": [
              "(103.6, 298.8100399919654)"
            ]
          },
          "metadata": {},
          "execution_count": 166
        }
      ]
    },
    {
      "cell_type": "code",
      "metadata": {
        "id": "hotC4eIcNdEA"
      },
      "source": [
        "scaled = standard_scaler.fit_transform(x.reshape(-1, 1))"
      ],
      "execution_count": 167,
      "outputs": []
    },
    {
      "cell_type": "code",
      "metadata": {
        "id": "x_cxuk_uTCxo",
        "outputId": "194005bf-d07b-4d79-8de6-e7f7a5cb0e9a",
        "colab": {
          "base_uri": "https://localhost:8080/"
        }
      },
      "source": [
        "x.mean(), x.std()"
      ],
      "execution_count": null,
      "outputs": [
        {
          "output_type": "execute_result",
          "data": {
            "text/plain": [
              "(103.6, 298.8100399919654)"
            ]
          },
          "metadata": {},
          "execution_count": 157
        }
      ]
    },
    {
      "cell_type": "code",
      "metadata": {
        "id": "2BHw3wL2TGTa",
        "outputId": "acbc5e8f-6e02-46c4-bdf1-2b8ae2df4523",
        "colab": {
          "base_uri": "https://localhost:8080/"
        }
      },
      "source": [
        "scaled.mean(), scaled.std()"
      ],
      "execution_count": 168,
      "outputs": [
        {
          "output_type": "execute_result",
          "data": {
            "text/plain": [
              "(4.4408920985006264e-17, 1.0)"
            ]
          },
          "metadata": {},
          "execution_count": 168
        }
      ]
    },
    {
      "cell_type": "code",
      "metadata": {
        "id": "CLVLJQ1r228p",
        "outputId": "391ca5e6-7ef0-4512-ea72-36d60dd040c8",
        "colab": {
          "base_uri": "https://localhost:8080/"
        }
      },
      "source": [
        "round(scaled.mean(),2), scaled.std()"
      ],
      "execution_count": 169,
      "outputs": [
        {
          "output_type": "execute_result",
          "data": {
            "text/plain": [
              "(0.0, 1.0)"
            ]
          },
          "metadata": {},
          "execution_count": 169
        }
      ]
    },
    {
      "cell_type": "code",
      "source": [
        "x"
      ],
      "metadata": {
        "colab": {
          "base_uri": "https://localhost:8080/"
        },
        "id": "B69rYZqij_-P",
        "outputId": "34d61c01-9c1d-4288-eaa2-0d3060346cb9"
      },
      "execution_count": 171,
      "outputs": [
        {
          "output_type": "execute_result",
          "data": {
            "text/plain": [
              "array([   0,    1,    2,    3,    4,    5,    6,    7,    8, 1000])"
            ]
          },
          "metadata": {},
          "execution_count": 171
        }
      ]
    },
    {
      "cell_type": "code",
      "metadata": {
        "id": "gKoHCNmCGFQ4",
        "colab": {
          "base_uri": "https://localhost:8080/"
        },
        "outputId": "a2f90914-a718-466c-b18a-1cac7b96876d"
      },
      "source": [
        "scaled"
      ],
      "execution_count": 170,
      "outputs": [
        {
          "output_type": "execute_result",
          "data": {
            "text/plain": [
              "array([[-0.34670856],\n",
              "       [-0.34336196],\n",
              "       [-0.34001535],\n",
              "       [-0.33666874],\n",
              "       [-0.33332213],\n",
              "       [-0.32997553],\n",
              "       [-0.32662892],\n",
              "       [-0.32328231],\n",
              "       [-0.3199357 ],\n",
              "       [ 2.9998992 ]])"
            ]
          },
          "metadata": {},
          "execution_count": 170
        }
      ]
    }
  ]
}